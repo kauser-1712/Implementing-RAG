{
 "cells": [
  {
   "cell_type": "markdown",
   "metadata": {},
   "source": [
    "# Building RAG with Docling and LlamaIndex"
   ]
  },
  {
   "cell_type": "code",
   "execution_count": null,
   "metadata": {},
   "outputs": [],
   "source": [
    "!pip install llama-index-core"
   ]
  },
  {
   "cell_type": "code",
   "execution_count": null,
   "metadata": {},
   "outputs": [],
   "source": [
    "!pip install llama-index-readers-docling\n",
    "!pip install llama-index-node-parser-docling\n",
    "!pip install llama-index-readers-file\n",
    "!pip install llama-index-llm-openai\n",
    "!pip install llama-index-embeddings-openai"
   ]
  },
  {
   "cell_type": "code",
   "execution_count": 1,
   "metadata": {},
   "outputs": [],
   "source": [
    "# setting up the llm\n",
    "from llama_index.llms.openai import OpenAI\n",
    "from llama_index.embeddings.openai import OpenAIEmbedding\n",
    "from llama_index.readers.docling import DoclingReader\n",
    "from llama_index.core.node_parser import MarkdownNodeParser\n",
    "from llama_index.core import VectorStoreIndex\n"
   ]
  },
  {
   "cell_type": "code",
   "execution_count": 2,
   "metadata": {},
   "outputs": [],
   "source": [
    "llm = OpenAI(model='gpt-4o')\n",
    "embedding_model = OpenAIEmbedding()"
   ]
  },
  {
   "cell_type": "code",
   "execution_count": 3,
   "metadata": {},
   "outputs": [
    {
     "name": "stderr",
     "output_type": "stream",
     "text": [
      "Neither CUDA nor MPS are available - defaulting to CPU. Note: This module is much faster with a GPU.\n"
     ]
    }
   ],
   "source": [
    "reader = DoclingReader()\n",
    "parser = MarkdownNodeParser()\n",
    "docs = reader.load_data('/workspaces/Implementing-RAG/data/Guardian Vision Insurance.pdf')\n",
    "for doc in docs:\n",
    "    doc.metadata = {\"source\": doc.doc_id}"
   ]
  },
  {
   "cell_type": "code",
   "execution_count": 5,
   "metadata": {},
   "outputs": [
    {
     "name": "stdout",
     "output_type": "stream",
     "text": [
      "[Document(id_='9e217547-b494-443a-b322-9f630f0b2259', embedding=None, metadata={}, excluded_embed_metadata_keys=[], excluded_llm_metadata_keys=[], relationships={}, metadata_template='{key}: {value}', metadata_separator='\\n', text=\"## Vision Benefit Summary\\n\\n## Why choose Guardian for your Vision insurance:\\n\\nFor just a few dollars a month, this coverage saves you money on optical wellness, as well as providing discounts on eyewear, contacts, and corrective vision services\\n\\n- · Extensive network of vision specialists and medical professionals\\n- · Affordable coverage\\n- · Quick and easy claim payments\\n\\n## About Your Benefits:\\n\\nOption 1: Significant out-of-pocket savings available with your Full Feature plan by visiting one of VSP's network locations, including one of the largest private practice provider networks, Visionworks and contracted Pearle Vision locations.\\n\\n| Your Vision Plan                                                                 | VSP Vision Premier                                    | VSP Vision Premier                   |\\n|----------------------------------------------------------------------------------|-------------------------------------------------------|--------------------------------------|\\n| Your Network is                                                                  | VSP Network Signature Plan                            |                                      |\\n| Copay                                                                            |                                                       |                                      |\\n| Exams Copay                                                                      | $ 10                                                  |                                      |\\n| Materials Copay (waived for elective contact lenses)                             | $ 25                                                  |                                      |\\n| Sample of Covered Services                                                       | You pay (after copay if applicable):                  | You pay (after copay if applicable): |\\n|                                                                                  | In-network                                            | Out-of-network                       |\\n| Eye Exams                                                                        | $0                                                    | Amount over $50                      |\\n| Single Vision Lenses                                                             | $0                                                    | Amount over $48                      |\\n| Lined Bifocal Lenses                                                             | $0                                                    | Amount over $67                      |\\n| Lined Trifocal Lenses                                                            | $0                                                    | Amount over $86                      |\\n| Lenticular Lenses                                                                | $0                                                    | Amount over $126                     |\\n| Frames                                                                           | 80% of amount over $180¹                              | Amount over $48                      |\\n| Costco Frame Allowance                                                           | Amount over $100                                      |                                      |\\n| Contact Lenses (Elective)                                                        | Amount over $180                                      | Amount over $130                     |\\n| Contact Lenses (Medically Necessary)                                             | $0                                                    | Amount over $210                     |\\n| Contact Lenses (Evaluation and fitting)                                          | 15% off UCR                                           | No discounts                         |\\n|                                                                                  | 20% off retail price^                                 |                                      |\\n| Glasses (Additional pair of frames and lenses) Laser Correction Surgery Discount | Up to 15% off the usual charge or 5%                  | No discounts No discounts            |\\n|                                                                                  | off promotional price                                 | off promotional price                |\\n| Service Frequencies                                                              |                                                       |                                      |\\n| Exams                                                                            | Every calendar year                                   |                                      |\\n| Lenses (for glasses or contact lenses) ‡‡                                        | Every calendar year                                   |                                      |\\n| Frames                                                                           | Every calendar year                                   |                                      |\\n| Network discounts (glasses and contact lens professional service)                | Limitless within 12 months of exam.                   |                                      |\\n| Dependent Age Limits                                                             | 26                                                    |                                      |\\n| To Find a Provider:                                                              | Register at VSP.com to find a participating provider. |                                      |\\n\\n## VSP\\n\\n- · ‡‡Benefit includes coverage for glasses or contact lenses, not both.\\n- · ^ For the discount to apply your purchase must be made within 12 months of the eye exam. In addition Full-Feature plans offer 30% off additional prescription glasses and nonprescription sunglasses, including lens options, if purchased on the same day as the eye exam from the same VSP doctor who provided the exam.\\n- · Charges for an initial purchase can be used toward the material allowance. Any unused balance remaining after the initial purchase cannot be banked for future use. The only exception would be if a member purchases contact lenses from an out of network provider, members can use the balance towards additional contact lenses within the same benefit period.\\n\\nVISION PLAN C 180 Benefit Summary\\n\\n- · 1 Extra $20 on select brands\\n- · Members can use their in network benefits on line at Eyeconic.com.\\n\\nThis document is a summary of the major features of the referenced insurance coverage.  It is intended for illustrative purposes only and does not constitute a contract. The insurance plan documents, including the policy and certificate, comprise the contract for coverage. The full plan description, including the benefits and all terms, limitations and exclusions that apply will be contained in your insurance certificate. The plan documents are the final arbiter of coverage.  Coverage terms may vary by state and actual sold plan. The premium amounts reflected in this summary are an approximation; if there is a discrepancy between this amount and the premium actually billed, the latter prevails.\\n\\n## Manage Your Benefits:\\n\\nGo to www.GuardianAnytime.com to access secure information about your Guardian benefits including access to an image of your ID Card. Your on-line account will be set up within 30 days after your plan effective date.\\n\\n## EXCLUSIONS AND LIMITATIONS\\n\\nImportant Information: This policy provides vision care limited benefits health insurance only. It does not provide basic hospital, basic medical or major medical insurance as defined by the New York State Insurance Department. Coverage is limited to those charges that are necessary for a routine vision examination. Co-pays apply. The plan does not pay for: orthoptics or vision training and any associated supplemental testing; medical or surgical treatment of the eye; and eye examination or corrective eyewear required by an employer as a condition of employment; replacement of lenses and frames that are furnished under this plan, which are lost or broken (except at normal intervals when services are otherwise available or a warranty exists). The plan limits benefits for blended lenses, oversized lenses, photochromic lenses, tinted lenses, progressive multifocal lenses, coated or laminated lenses, a frame that exceeds plan allowance, cosmetic lenses; U-V protected lenses and optional cosmetic processes.\\n\\nThe services, exclusions and limitations listed above do not constitute a contract and are a summary only. The Guardian plan documents are the final arbiter of coverage. Contract #GP-1-VSN-96-VIS et al.\\n\\n## Laser Correction Surgery:\\n\\nDiscounts on average of 10-20% off usual and customary charge or 5% off promotional price for vision laser Surgery. Members out-of-pocket costs are limited to $1,800 per eye for LASIK or $1,500 per eye for PRK or $2300 per eye for Custom LASIK, Custom PRK, or Bladeless LASIK.\\n\\nLaser surgery is not an insured benefit. The surgery is available at a discounted fee. The covered person must pay the entire discounted fee. In addition, the laser surgery discount may not be available in all states.\", mimetype='text/plain', start_char_idx=None, end_char_idx=None, metadata_seperator='\\n', text_template='{metadata_str}\\n\\n{content}')]\n"
     ]
    }
   ],
   "source": [
    "print(docs)"
   ]
  },
  {
   "cell_type": "code",
   "execution_count": 66,
   "metadata": {},
   "outputs": [],
   "source": [
    "index = VectorStoreIndex.from_documents(documents  = docs, transformation = [parser], embed_model = embedding_model)"
   ]
  },
  {
   "cell_type": "code",
   "execution_count": 23,
   "metadata": {},
   "outputs": [
    {
     "name": "stdout",
     "output_type": "stream",
     "text": [
      "ec8752ea-38b0-4267-8b9b-f02e3a012e39\n"
     ]
    }
   ],
   "source": [
    "print(index.index_id)"
   ]
  },
  {
   "cell_type": "code",
   "execution_count": 67,
   "metadata": {},
   "outputs": [],
   "source": [
    "query_engine = index.as_query_engine(llm=llm,return_source=True)"
   ]
  },
  {
   "cell_type": "code",
   "execution_count": 68,
   "metadata": {},
   "outputs": [
    {
     "name": "stdout",
     "output_type": "stream",
     "text": [
      "Source 1:\n",
      "This document is a summary of the major features of the referenced insurance coverage.  It is intended for illustrative purposes only and does not constitute a contract. The insurance plan documents, including the policy and certificate, comprise the contract for coverage. The full plan description, including the benefits and all terms, limitations and exclusions that apply will be contained in your insurance certificate. The plan documents are the final arbiter of coverage.  Coverage terms may vary by state and actual sold plan. The premium amounts reflected in this summary are an approximation; if there is a discrepancy between this amount and the premium actually billed, the latter prevails.\n",
      "\n",
      "## Manage Your Benefits:\n",
      "\n",
      "Go to www.GuardianAnytime.com to access secure information about your Guardian benefits including access to an image of your ID Card. Your on-line account will be set up within 30 days after your plan effective date.\n",
      "\n",
      "## EXCLUSIONS AND LIMITATIONS\n",
      "\n",
      "Important Information: This policy provides vision care limited benefits health insurance only. It does not provide basic hospital, basic medical or major medical insurance as defined by the New York State Insurance Department. Coverage is limited to those charges that are necessary for a routine vision examination. Co-pays apply. The plan does not pay for: orthoptics or vision training and any associated supplemental testing; medical or surgical treatment of the eye; and eye examination or corrective eyewear required by an employer as a condition of employment; replacement of lenses and frames that are furnished under this plan, which are lost or broken (except at normal intervals when services are otherwise available or a warranty exists). The plan limits benefits for blended lenses, oversized lenses, photochromic lenses, tinted lenses, progressive multifocal lenses, coated or laminated lenses, a frame that exceeds plan allowance, cosmetic lenses; U-V protected lenses and optional cosmetic processes.\n",
      "\n",
      "The services, exclusions and limitations listed above do not constitute a contract and are a summary only. The Guardian plan documents are the final arbiter of coverage. Contract #GP-1-VSN-96-VIS et al.\n",
      "\n",
      "## Laser Correction Surgery:\n",
      "\n",
      "Discounts on average of 10-20% off usual and customary charge or 5% off promotional price for vision laser Surgery. Members out-of-pocket costs are limited to $1,800 per eye for LASIK or $1,500 per eye for PRK or $2300 per eye for Custom LASIK, Custom PRK, or Bladeless LASIK.\n",
      "\n",
      "Laser surgery is not an insured benefit. The surgery is available at a discounted fee. The covered person must pay the entire discounted fee. In addition, the laser surgery discount may not be available in all states.\n",
      "--------------------------------------------------\n",
      "Source 2:\n",
      "## Vision Benefit Summary\n",
      "\n",
      "## Why choose Guardian for your Vision insurance:\n",
      "\n",
      "For just a few dollars a month, this coverage saves you money on optical wellness, as well as providing discounts on eyewear, contacts, and corrective vision services\n",
      "\n",
      "- · Extensive network of vision specialists and medical professionals\n",
      "- · Affordable coverage\n",
      "- · Quick and easy claim payments\n",
      "\n",
      "## About Your Benefits:\n",
      "\n",
      "Option 1: Significant out-of-pocket savings available with your Full Feature plan by visiting one of VSP's network locations, including one of the largest private practice provider networks, Visionworks and contracted Pearle Vision locations.\n",
      "\n",
      "| Your Vision Plan                                                                 | VSP Vision Premier                                    | VSP Vision Premier                   |\n",
      "|----------------------------------------------------------------------------------|-------------------------------------------------------|--------------------------------------|\n",
      "| Your Network is                                                                  | VSP Network Signature Plan                            |                                      |\n",
      "| Copay                                                                            |                                                       |                                      |\n",
      "| Exams Copay                                                                      | $ 10                                                  |                                      |\n",
      "| Materials Copay (waived for elective contact lenses)                             | $ 25                                                  |                                      |\n",
      "| Sample of Covered Services                                                       | You pay (after copay if applicable):                  | You pay (after copay if applicable): |\n",
      "|                                                                                  | In-network                                            | Out-of-network                       |\n",
      "| Eye Exams                                                                        | $0                                                    | Amount over $50                      |\n",
      "| Single Vision Lenses                                                             | $0                                                    | Amount over $48                      |\n",
      "| Lined Bifocal Lenses                                                             | $0                                                    | Amount over $67                      |\n",
      "| Lined Trifocal Lenses                                                            | $0                                                    | Amount over $86                      |\n",
      "| Lenticular Lenses                                                                | $0                                                    | Amount over $126                     |\n",
      "| Frames                                                                           | 80% of amount over $180¹                              | Amount over $48                      |\n",
      "| Costco Frame Allowance                                                           | Amount over $100                                      |                                      |\n",
      "| Contact Lenses (Elective)                                                        | Amount over $180                                      | Amount over $130                     |\n",
      "| Contact Lenses (Medically Necessary)                                             | $0                                                    | Amount over $210                     |\n",
      "| Contact Lenses (Evaluation and fitting)                                          | 15% off UCR                                           | No discounts                         |\n",
      "|                                                                                  | 20% off retail price^                                 |                                      |\n",
      "| Glasses (Additional pair of frames and lenses) Laser Correction Surgery Discount | Up to 15% off the usual charge or 5%                  | No discounts No discounts            |\n",
      "|                                                                                  | off promotional price                                 | off promotional price                |\n",
      "| Service Frequencies                                                              |                                                       |                                      |\n",
      "| Exams                                                                            | Every calendar year                                   |                                      |\n",
      "| Lenses (for glasses or contact lenses) ‡‡                                        | Every calendar year                                   |                                      |\n",
      "| Frames                                                                           | Every calendar year                                   |                                      |\n",
      "| Network discounts (glasses and contact lens professional service)                | Limitless within 12 months of exam.                   |                                      |\n",
      "| Dependent Age Limits                                                             | 26                                                    |                                      |\n",
      "| To Find a Provider:                                                              | Register at VSP.com to find a participating provider. |                                      |\n",
      "\n",
      "## VSP\n",
      "\n",
      "- · ‡‡Benefit includes coverage for glasses or contact lenses, not both.\n",
      "- · ^ For the discount to apply your purchase must be made within 12 months of the eye exam. In addition Full-Feature plans offer 30% off additional prescription glasses and nonprescription sunglasses, including lens options, if purchased on the same day as the eye exam from the same VSP doctor who provided the exam.\n",
      "- · Charges for an initial purchase can be used toward the material allowance. Any unused balance remaining after the initial purchase cannot be banked for future use. The only exception would be if a member purchases contact lenses from an out of network provider, members can use the balance towards additional contact lenses within the same benefit period.\n",
      "\n",
      "VISION PLAN C 180 Benefit Summary\n",
      "\n",
      "- · 1 Extra $20 on select brands\n",
      "- · Members can use their in network benefits on line at Eyeconic.com.\n",
      "\n",
      "This document is a summary of the major features of the referenced insurance coverage.  It is intended for illustrative purposes only and does not constitute a contract. The insurance plan documents, including the policy and certificate, comprise the contract for coverage. The full plan description, including the benefits and all terms, limitations and exclusions that apply will be contained in your insurance certificate. The plan documents are the final arbiter of coverage.  Coverage terms may vary by state and actual sold plan. The premium amounts reflected in this summary are an approximation; if there is a discrepancy between this amount and the premium actually billed, the latter prevails.\n",
      "\n",
      "## Manage Your Benefits:\n",
      "\n",
      "Go to www.GuardianAnytime.com to access secure information about your Guardian benefits including access to an image of your ID Card. Your on-line account will be set up within 30 days after your plan effective date.\n",
      "--------------------------------------------------\n"
     ]
    }
   ],
   "source": [
    "response = query_engine.query(\"What discount is provided for laser correction surgery?\")\n",
    "response.response.strip()\n",
    "# Extract top 2 source content\n",
    "top_sources = response.source_nodes[:2] \n",
    "for i, source_node in enumerate(top_sources, start=1):\n",
    "    print(f\"Source {i}:\")\n",
    "    print(source_node.node.text.strip())  # Print the text content of the source\n",
    "    print(\"-\" * 50)"
   ]
  },
  {
   "cell_type": "markdown",
   "metadata": {},
   "source": [
    "## Buidling RAG"
   ]
  },
  {
   "cell_type": "code",
   "execution_count": null,
   "metadata": {},
   "outputs": [],
   "source": [
    "!pip install langchain-milvus"
   ]
  },
  {
   "cell_type": "code",
   "execution_count": null,
   "metadata": {},
   "outputs": [],
   "source": [
    "!pip install langchain-huggingface"
   ]
  },
  {
   "cell_type": "code",
   "execution_count": null,
   "metadata": {},
   "outputs": [],
   "source": [
    "!pip install langchain-text-splitters"
   ]
  },
  {
   "cell_type": "code",
   "execution_count": 4,
   "metadata": {},
   "outputs": [
    {
     "data": {
      "text/plain": [
       "True"
      ]
     },
     "execution_count": 4,
     "metadata": {},
     "output_type": "execute_result"
    }
   ],
   "source": [
    "import os \n",
    "from dotenv import load_dotenv\n",
    "load_dotenv()"
   ]
  },
  {
   "cell_type": "code",
   "execution_count": 5,
   "metadata": {},
   "outputs": [],
   "source": [
    "from typing import Iterator\n",
    "from langchain_core.document_loaders import BaseLoader\n",
    "from langchain_core.documents import Document as LCDocument\n",
    "from docling.document_converter import DocumentConverter"
   ]
  },
  {
   "cell_type": "code",
   "execution_count": 6,
   "metadata": {},
   "outputs": [],
   "source": [
    "from typing import Iterator\n",
    "\n",
    "from langchain_core.document_loaders import BaseLoader\n",
    "from langchain_core.documents import Document as LCDocument\n",
    "from docling.document_converter import DocumentConverter\n",
    "\n",
    "class DoclingPDFLoader(BaseLoader):\n",
    "\n",
    "    def __init__(self, file_path: str | list[str]) -> None:\n",
    "        self._file_paths = file_path if isinstance(file_path, list) else [file_path]\n",
    "        self._converter = DocumentConverter()\n",
    "\n",
    "    def lazy_load(self) -> Iterator[LCDocument]:\n",
    "        for source in self._file_paths:\n",
    "            dl_doc = self._converter.convert(source).document\n",
    "            text = dl_doc.export_to_markdown()\n",
    "            yield LCDocument(page_content=text)"
   ]
  },
  {
   "cell_type": "code",
   "execution_count": 7,
   "metadata": {},
   "outputs": [],
   "source": [
    "FILE_PATH = '/workspaces/Implementing-RAG/data/Guardian Vision Insurance.pdf'"
   ]
  },
  {
   "cell_type": "code",
   "execution_count": 8,
   "metadata": {},
   "outputs": [],
   "source": [
    "\n",
    "from langchain_text_splitters import RecursiveCharacterTextSplitter\n",
    "\n",
    "loader = DoclingPDFLoader(file_path=FILE_PATH)\n",
    "text_splitter = RecursiveCharacterTextSplitter(\n",
    "    chunk_size=1000,\n",
    "    chunk_overlap=200,\n",
    ")"
   ]
  },
  {
   "cell_type": "code",
   "execution_count": 9,
   "metadata": {},
   "outputs": [
    {
     "name": "stderr",
     "output_type": "stream",
     "text": [
      "Neither CUDA nor MPS are available - defaulting to CPU. Note: This module is much faster with a GPU.\n"
     ]
    }
   ],
   "source": [
    "\n",
    "docs = loader.load()\n",
    "splits = text_splitter.split_documents(docs)"
   ]
  },
  {
   "cell_type": "code",
   "execution_count": 10,
   "metadata": {},
   "outputs": [],
   "source": [
    "from langchain_huggingface.embeddings import HuggingFaceEmbeddings\n",
    "\n",
    "HF_EMBED_MODEL_ID = \"BAAI/bge-small-en-v1.5\"\n",
    "embeddings = HuggingFaceEmbeddings(model_name=HF_EMBED_MODEL_ID)"
   ]
  },
  {
   "cell_type": "code",
   "execution_count": 15,
   "metadata": {},
   "outputs": [],
   "source": [
    "from tempfile import TemporaryDirectory\n",
    "\n",
    "from langchain_milvus import Milvus\n",
    "\n",
    "MILVUS_URI = os.environ.get(\n",
    "    \"MILVUS_URI\", f\"{(tmp_dir := TemporaryDirectory()).name}/milvus_demo.db\"\n",
    ")\n",
    "\n",
    "vectorstore = Milvus.from_documents(\n",
    "    splits,\n",
    "    embeddings,\n",
    "    connection_args={\"uri\": MILVUS_URI},\n",
    "    drop_old=True,\n",
    ")"
   ]
  },
  {
   "cell_type": "code",
   "execution_count": 16,
   "metadata": {},
   "outputs": [],
   "source": [
    "from langchain_huggingface import HuggingFaceEndpoint\n",
    "\n",
    "HF_API_KEY = os.environ.get(\"HF_API_KEY\")\n",
    "HF_LLM_MODEL_ID = \"mistralai/Mistral-7B-Instruct-v0.3\"\n",
    "\n",
    "llm = HuggingFaceEndpoint(\n",
    "    repo_id=HF_LLM_MODEL_ID,\n",
    "    huggingfacehub_api_token=HF_API_KEY,\n",
    ")"
   ]
  },
  {
   "cell_type": "code",
   "execution_count": 17,
   "metadata": {},
   "outputs": [],
   "source": [
    "from typing import Iterable\n",
    "\n",
    "from langchain_core.documents import Document as LCDocument\n",
    "from langchain_core.output_parsers import StrOutputParser\n",
    "from langchain_core.prompts import PromptTemplate\n",
    "from langchain_core.runnables import RunnablePassthrough\n",
    "\n",
    "\n",
    "def format_docs(docs: Iterable[LCDocument]):\n",
    "    return \"\\n\\n\".join(doc.page_content for doc in docs)\n",
    "\n",
    "\n",
    "retriever = vectorstore.as_retriever()\n",
    "\n",
    "prompt = PromptTemplate.from_template(\n",
    "    \"Context information is below.\\n---------------------\\n{context}\\n---------------------\\nGiven the context information and not prior knowledge, answer the query.\\nQuery: {question}\\nAnswer:\\n\"\n",
    ")\n",
    "\n",
    "rag_chain = (\n",
    "    {\"context\": retriever | format_docs, \"question\": RunnablePassthrough()}\n",
    "    | prompt\n",
    "    | llm\n",
    "    | StrOutputParser()\n",
    ")"
   ]
  },
  {
   "cell_type": "code",
   "execution_count": 18,
   "metadata": {},
   "outputs": [
    {
     "ename": "BadRequestError",
     "evalue": "(Request ID: WOKDQzfaPcccjSUBnxewb)\n\nBad request:\nAuthorization header is correct, but the token seems invalid",
     "output_type": "error",
     "traceback": [
      "\u001b[0;31m---------------------------------------------------------------------------\u001b[0m",
      "\u001b[0;31mHTTPError\u001b[0m                                 Traceback (most recent call last)",
      "File \u001b[0;32m~/.python/current/lib/python3.12/site-packages/huggingface_hub/utils/_http.py:406\u001b[0m, in \u001b[0;36mhf_raise_for_status\u001b[0;34m(response, endpoint_name)\u001b[0m\n\u001b[1;32m    405\u001b[0m \u001b[38;5;28;01mtry\u001b[39;00m:\n\u001b[0;32m--> 406\u001b[0m     \u001b[43mresponse\u001b[49m\u001b[38;5;241;43m.\u001b[39;49m\u001b[43mraise_for_status\u001b[49m\u001b[43m(\u001b[49m\u001b[43m)\u001b[49m\n\u001b[1;32m    407\u001b[0m \u001b[38;5;28;01mexcept\u001b[39;00m HTTPError \u001b[38;5;28;01mas\u001b[39;00m e:\n",
      "File \u001b[0;32m~/.python/current/lib/python3.12/site-packages/requests/models.py:1024\u001b[0m, in \u001b[0;36mResponse.raise_for_status\u001b[0;34m(self)\u001b[0m\n\u001b[1;32m   1023\u001b[0m \u001b[38;5;28;01mif\u001b[39;00m http_error_msg:\n\u001b[0;32m-> 1024\u001b[0m     \u001b[38;5;28;01mraise\u001b[39;00m HTTPError(http_error_msg, response\u001b[38;5;241m=\u001b[39m\u001b[38;5;28mself\u001b[39m)\n",
      "\u001b[0;31mHTTPError\u001b[0m: 400 Client Error: Bad Request for url: https://api-inference.huggingface.co/models/mistralai/Mistral-7B-Instruct-v0.3",
      "\nThe above exception was the direct cause of the following exception:\n",
      "\u001b[0;31mBadRequestError\u001b[0m                           Traceback (most recent call last)",
      "Cell \u001b[0;32mIn[18], line 1\u001b[0m\n\u001b[0;32m----> 1\u001b[0m \u001b[43mrag_chain\u001b[49m\u001b[38;5;241;43m.\u001b[39;49m\u001b[43minvoke\u001b[49m\u001b[43m(\u001b[49m\u001b[38;5;124;43m\"\u001b[39;49m\u001b[38;5;124;43mWhat is the copay for an eye exam in the VSP Network Signature Plan?\u001b[39;49m\u001b[38;5;124;43m\"\u001b[39;49m\u001b[43m)\u001b[49m\n",
      "File \u001b[0;32m~/.python/current/lib/python3.12/site-packages/langchain_core/runnables/base.py:3024\u001b[0m, in \u001b[0;36mRunnableSequence.invoke\u001b[0;34m(self, input, config, **kwargs)\u001b[0m\n\u001b[1;32m   3022\u001b[0m             \u001b[38;5;28minput\u001b[39m \u001b[38;5;241m=\u001b[39m context\u001b[38;5;241m.\u001b[39mrun(step\u001b[38;5;241m.\u001b[39minvoke, \u001b[38;5;28minput\u001b[39m, config, \u001b[38;5;241m*\u001b[39m\u001b[38;5;241m*\u001b[39mkwargs)\n\u001b[1;32m   3023\u001b[0m         \u001b[38;5;28;01melse\u001b[39;00m:\n\u001b[0;32m-> 3024\u001b[0m             \u001b[38;5;28minput\u001b[39m \u001b[38;5;241m=\u001b[39m \u001b[43mcontext\u001b[49m\u001b[38;5;241;43m.\u001b[39;49m\u001b[43mrun\u001b[49m\u001b[43m(\u001b[49m\u001b[43mstep\u001b[49m\u001b[38;5;241;43m.\u001b[39;49m\u001b[43minvoke\u001b[49m\u001b[43m,\u001b[49m\u001b[43m \u001b[49m\u001b[38;5;28;43minput\u001b[39;49m\u001b[43m,\u001b[49m\u001b[43m \u001b[49m\u001b[43mconfig\u001b[49m\u001b[43m)\u001b[49m\n\u001b[1;32m   3025\u001b[0m \u001b[38;5;66;03m# finish the root run\u001b[39;00m\n\u001b[1;32m   3026\u001b[0m \u001b[38;5;28;01mexcept\u001b[39;00m \u001b[38;5;167;01mBaseException\u001b[39;00m \u001b[38;5;28;01mas\u001b[39;00m e:\n",
      "File \u001b[0;32m~/.python/current/lib/python3.12/site-packages/langchain_core/language_models/llms.py:390\u001b[0m, in \u001b[0;36mBaseLLM.invoke\u001b[0;34m(self, input, config, stop, **kwargs)\u001b[0m\n\u001b[1;32m    380\u001b[0m \u001b[38;5;28;01mdef\u001b[39;00m \u001b[38;5;21minvoke\u001b[39m(\n\u001b[1;32m    381\u001b[0m     \u001b[38;5;28mself\u001b[39m,\n\u001b[1;32m    382\u001b[0m     \u001b[38;5;28minput\u001b[39m: LanguageModelInput,\n\u001b[0;32m   (...)\u001b[0m\n\u001b[1;32m    386\u001b[0m     \u001b[38;5;241m*\u001b[39m\u001b[38;5;241m*\u001b[39mkwargs: Any,\n\u001b[1;32m    387\u001b[0m ) \u001b[38;5;241m-\u001b[39m\u001b[38;5;241m>\u001b[39m \u001b[38;5;28mstr\u001b[39m:\n\u001b[1;32m    388\u001b[0m     config \u001b[38;5;241m=\u001b[39m ensure_config(config)\n\u001b[1;32m    389\u001b[0m     \u001b[38;5;28;01mreturn\u001b[39;00m (\n\u001b[0;32m--> 390\u001b[0m         \u001b[38;5;28;43mself\u001b[39;49m\u001b[38;5;241;43m.\u001b[39;49m\u001b[43mgenerate_prompt\u001b[49m\u001b[43m(\u001b[49m\n\u001b[1;32m    391\u001b[0m \u001b[43m            \u001b[49m\u001b[43m[\u001b[49m\u001b[38;5;28;43mself\u001b[39;49m\u001b[38;5;241;43m.\u001b[39;49m\u001b[43m_convert_input\u001b[49m\u001b[43m(\u001b[49m\u001b[38;5;28;43minput\u001b[39;49m\u001b[43m)\u001b[49m\u001b[43m]\u001b[49m\u001b[43m,\u001b[49m\n\u001b[1;32m    392\u001b[0m \u001b[43m            \u001b[49m\u001b[43mstop\u001b[49m\u001b[38;5;241;43m=\u001b[39;49m\u001b[43mstop\u001b[49m\u001b[43m,\u001b[49m\n\u001b[1;32m    393\u001b[0m \u001b[43m            \u001b[49m\u001b[43mcallbacks\u001b[49m\u001b[38;5;241;43m=\u001b[39;49m\u001b[43mconfig\u001b[49m\u001b[38;5;241;43m.\u001b[39;49m\u001b[43mget\u001b[49m\u001b[43m(\u001b[49m\u001b[38;5;124;43m\"\u001b[39;49m\u001b[38;5;124;43mcallbacks\u001b[39;49m\u001b[38;5;124;43m\"\u001b[39;49m\u001b[43m)\u001b[49m\u001b[43m,\u001b[49m\n\u001b[1;32m    394\u001b[0m \u001b[43m            \u001b[49m\u001b[43mtags\u001b[49m\u001b[38;5;241;43m=\u001b[39;49m\u001b[43mconfig\u001b[49m\u001b[38;5;241;43m.\u001b[39;49m\u001b[43mget\u001b[49m\u001b[43m(\u001b[49m\u001b[38;5;124;43m\"\u001b[39;49m\u001b[38;5;124;43mtags\u001b[39;49m\u001b[38;5;124;43m\"\u001b[39;49m\u001b[43m)\u001b[49m\u001b[43m,\u001b[49m\n\u001b[1;32m    395\u001b[0m \u001b[43m            \u001b[49m\u001b[43mmetadata\u001b[49m\u001b[38;5;241;43m=\u001b[39;49m\u001b[43mconfig\u001b[49m\u001b[38;5;241;43m.\u001b[39;49m\u001b[43mget\u001b[49m\u001b[43m(\u001b[49m\u001b[38;5;124;43m\"\u001b[39;49m\u001b[38;5;124;43mmetadata\u001b[39;49m\u001b[38;5;124;43m\"\u001b[39;49m\u001b[43m)\u001b[49m\u001b[43m,\u001b[49m\n\u001b[1;32m    396\u001b[0m \u001b[43m            \u001b[49m\u001b[43mrun_name\u001b[49m\u001b[38;5;241;43m=\u001b[39;49m\u001b[43mconfig\u001b[49m\u001b[38;5;241;43m.\u001b[39;49m\u001b[43mget\u001b[49m\u001b[43m(\u001b[49m\u001b[38;5;124;43m\"\u001b[39;49m\u001b[38;5;124;43mrun_name\u001b[39;49m\u001b[38;5;124;43m\"\u001b[39;49m\u001b[43m)\u001b[49m\u001b[43m,\u001b[49m\n\u001b[1;32m    397\u001b[0m \u001b[43m            \u001b[49m\u001b[43mrun_id\u001b[49m\u001b[38;5;241;43m=\u001b[39;49m\u001b[43mconfig\u001b[49m\u001b[38;5;241;43m.\u001b[39;49m\u001b[43mpop\u001b[49m\u001b[43m(\u001b[49m\u001b[38;5;124;43m\"\u001b[39;49m\u001b[38;5;124;43mrun_id\u001b[39;49m\u001b[38;5;124;43m\"\u001b[39;49m\u001b[43m,\u001b[49m\u001b[43m \u001b[49m\u001b[38;5;28;43;01mNone\u001b[39;49;00m\u001b[43m)\u001b[49m\u001b[43m,\u001b[49m\n\u001b[1;32m    398\u001b[0m \u001b[43m            \u001b[49m\u001b[38;5;241;43m*\u001b[39;49m\u001b[38;5;241;43m*\u001b[39;49m\u001b[43mkwargs\u001b[49m\u001b[43m,\u001b[49m\n\u001b[1;32m    399\u001b[0m \u001b[43m        \u001b[49m\u001b[43m)\u001b[49m\n\u001b[1;32m    400\u001b[0m         \u001b[38;5;241m.\u001b[39mgenerations[\u001b[38;5;241m0\u001b[39m][\u001b[38;5;241m0\u001b[39m]\n\u001b[1;32m    401\u001b[0m         \u001b[38;5;241m.\u001b[39mtext\n\u001b[1;32m    402\u001b[0m     )\n",
      "File \u001b[0;32m~/.python/current/lib/python3.12/site-packages/langchain_core/language_models/llms.py:755\u001b[0m, in \u001b[0;36mBaseLLM.generate_prompt\u001b[0;34m(self, prompts, stop, callbacks, **kwargs)\u001b[0m\n\u001b[1;32m    747\u001b[0m \u001b[38;5;28;01mdef\u001b[39;00m \u001b[38;5;21mgenerate_prompt\u001b[39m(\n\u001b[1;32m    748\u001b[0m     \u001b[38;5;28mself\u001b[39m,\n\u001b[1;32m    749\u001b[0m     prompts: \u001b[38;5;28mlist\u001b[39m[PromptValue],\n\u001b[0;32m   (...)\u001b[0m\n\u001b[1;32m    752\u001b[0m     \u001b[38;5;241m*\u001b[39m\u001b[38;5;241m*\u001b[39mkwargs: Any,\n\u001b[1;32m    753\u001b[0m ) \u001b[38;5;241m-\u001b[39m\u001b[38;5;241m>\u001b[39m LLMResult:\n\u001b[1;32m    754\u001b[0m     prompt_strings \u001b[38;5;241m=\u001b[39m [p\u001b[38;5;241m.\u001b[39mto_string() \u001b[38;5;28;01mfor\u001b[39;00m p \u001b[38;5;129;01min\u001b[39;00m prompts]\n\u001b[0;32m--> 755\u001b[0m     \u001b[38;5;28;01mreturn\u001b[39;00m \u001b[38;5;28;43mself\u001b[39;49m\u001b[38;5;241;43m.\u001b[39;49m\u001b[43mgenerate\u001b[49m\u001b[43m(\u001b[49m\u001b[43mprompt_strings\u001b[49m\u001b[43m,\u001b[49m\u001b[43m \u001b[49m\u001b[43mstop\u001b[49m\u001b[38;5;241;43m=\u001b[39;49m\u001b[43mstop\u001b[49m\u001b[43m,\u001b[49m\u001b[43m \u001b[49m\u001b[43mcallbacks\u001b[49m\u001b[38;5;241;43m=\u001b[39;49m\u001b[43mcallbacks\u001b[49m\u001b[43m,\u001b[49m\u001b[43m \u001b[49m\u001b[38;5;241;43m*\u001b[39;49m\u001b[38;5;241;43m*\u001b[39;49m\u001b[43mkwargs\u001b[49m\u001b[43m)\u001b[49m\n",
      "File \u001b[0;32m~/.python/current/lib/python3.12/site-packages/langchain_core/language_models/llms.py:950\u001b[0m, in \u001b[0;36mBaseLLM.generate\u001b[0;34m(self, prompts, stop, callbacks, tags, metadata, run_name, run_id, **kwargs)\u001b[0m\n\u001b[1;32m    935\u001b[0m \u001b[38;5;28;01mif\u001b[39;00m (\u001b[38;5;28mself\u001b[39m\u001b[38;5;241m.\u001b[39mcache \u001b[38;5;129;01mis\u001b[39;00m \u001b[38;5;28;01mNone\u001b[39;00m \u001b[38;5;129;01mand\u001b[39;00m get_llm_cache() \u001b[38;5;129;01mis\u001b[39;00m \u001b[38;5;28;01mNone\u001b[39;00m) \u001b[38;5;129;01mor\u001b[39;00m \u001b[38;5;28mself\u001b[39m\u001b[38;5;241m.\u001b[39mcache \u001b[38;5;129;01mis\u001b[39;00m \u001b[38;5;28;01mFalse\u001b[39;00m:\n\u001b[1;32m    936\u001b[0m     run_managers \u001b[38;5;241m=\u001b[39m [\n\u001b[1;32m    937\u001b[0m         callback_manager\u001b[38;5;241m.\u001b[39mon_llm_start(\n\u001b[1;32m    938\u001b[0m             \u001b[38;5;28mself\u001b[39m\u001b[38;5;241m.\u001b[39m_serialized,\n\u001b[0;32m   (...)\u001b[0m\n\u001b[1;32m    948\u001b[0m         )\n\u001b[1;32m    949\u001b[0m     ]\n\u001b[0;32m--> 950\u001b[0m     output \u001b[38;5;241m=\u001b[39m \u001b[38;5;28;43mself\u001b[39;49m\u001b[38;5;241;43m.\u001b[39;49m\u001b[43m_generate_helper\u001b[49m\u001b[43m(\u001b[49m\n\u001b[1;32m    951\u001b[0m \u001b[43m        \u001b[49m\u001b[43mprompts\u001b[49m\u001b[43m,\u001b[49m\u001b[43m \u001b[49m\u001b[43mstop\u001b[49m\u001b[43m,\u001b[49m\u001b[43m \u001b[49m\u001b[43mrun_managers\u001b[49m\u001b[43m,\u001b[49m\u001b[43m \u001b[49m\u001b[38;5;28;43mbool\u001b[39;49m\u001b[43m(\u001b[49m\u001b[43mnew_arg_supported\u001b[49m\u001b[43m)\u001b[49m\u001b[43m,\u001b[49m\u001b[43m \u001b[49m\u001b[38;5;241;43m*\u001b[39;49m\u001b[38;5;241;43m*\u001b[39;49m\u001b[43mkwargs\u001b[49m\n\u001b[1;32m    952\u001b[0m \u001b[43m    \u001b[49m\u001b[43m)\u001b[49m\n\u001b[1;32m    953\u001b[0m     \u001b[38;5;28;01mreturn\u001b[39;00m output\n\u001b[1;32m    954\u001b[0m \u001b[38;5;28;01mif\u001b[39;00m \u001b[38;5;28mlen\u001b[39m(missing_prompts) \u001b[38;5;241m>\u001b[39m \u001b[38;5;241m0\u001b[39m:\n",
      "File \u001b[0;32m~/.python/current/lib/python3.12/site-packages/langchain_core/language_models/llms.py:792\u001b[0m, in \u001b[0;36mBaseLLM._generate_helper\u001b[0;34m(self, prompts, stop, run_managers, new_arg_supported, **kwargs)\u001b[0m\n\u001b[1;32m    790\u001b[0m     \u001b[38;5;28;01mfor\u001b[39;00m run_manager \u001b[38;5;129;01min\u001b[39;00m run_managers:\n\u001b[1;32m    791\u001b[0m         run_manager\u001b[38;5;241m.\u001b[39mon_llm_error(e, response\u001b[38;5;241m=\u001b[39mLLMResult(generations\u001b[38;5;241m=\u001b[39m[]))\n\u001b[0;32m--> 792\u001b[0m     \u001b[38;5;28;01mraise\u001b[39;00m e\n\u001b[1;32m    793\u001b[0m flattened_outputs \u001b[38;5;241m=\u001b[39m output\u001b[38;5;241m.\u001b[39mflatten()\n\u001b[1;32m    794\u001b[0m \u001b[38;5;28;01mfor\u001b[39;00m manager, flattened_output \u001b[38;5;129;01min\u001b[39;00m \u001b[38;5;28mzip\u001b[39m(run_managers, flattened_outputs):\n",
      "File \u001b[0;32m~/.python/current/lib/python3.12/site-packages/langchain_core/language_models/llms.py:779\u001b[0m, in \u001b[0;36mBaseLLM._generate_helper\u001b[0;34m(self, prompts, stop, run_managers, new_arg_supported, **kwargs)\u001b[0m\n\u001b[1;32m    769\u001b[0m \u001b[38;5;28;01mdef\u001b[39;00m \u001b[38;5;21m_generate_helper\u001b[39m(\n\u001b[1;32m    770\u001b[0m     \u001b[38;5;28mself\u001b[39m,\n\u001b[1;32m    771\u001b[0m     prompts: \u001b[38;5;28mlist\u001b[39m[\u001b[38;5;28mstr\u001b[39m],\n\u001b[0;32m   (...)\u001b[0m\n\u001b[1;32m    775\u001b[0m     \u001b[38;5;241m*\u001b[39m\u001b[38;5;241m*\u001b[39mkwargs: Any,\n\u001b[1;32m    776\u001b[0m ) \u001b[38;5;241m-\u001b[39m\u001b[38;5;241m>\u001b[39m LLMResult:\n\u001b[1;32m    777\u001b[0m     \u001b[38;5;28;01mtry\u001b[39;00m:\n\u001b[1;32m    778\u001b[0m         output \u001b[38;5;241m=\u001b[39m (\n\u001b[0;32m--> 779\u001b[0m             \u001b[38;5;28;43mself\u001b[39;49m\u001b[38;5;241;43m.\u001b[39;49m\u001b[43m_generate\u001b[49m\u001b[43m(\u001b[49m\n\u001b[1;32m    780\u001b[0m \u001b[43m                \u001b[49m\u001b[43mprompts\u001b[49m\u001b[43m,\u001b[49m\n\u001b[1;32m    781\u001b[0m \u001b[43m                \u001b[49m\u001b[43mstop\u001b[49m\u001b[38;5;241;43m=\u001b[39;49m\u001b[43mstop\u001b[49m\u001b[43m,\u001b[49m\n\u001b[1;32m    782\u001b[0m \u001b[43m                \u001b[49m\u001b[38;5;66;43;03m# TODO: support multiple run managers\u001b[39;49;00m\n\u001b[1;32m    783\u001b[0m \u001b[43m                \u001b[49m\u001b[43mrun_manager\u001b[49m\u001b[38;5;241;43m=\u001b[39;49m\u001b[43mrun_managers\u001b[49m\u001b[43m[\u001b[49m\u001b[38;5;241;43m0\u001b[39;49m\u001b[43m]\u001b[49m\u001b[43m \u001b[49m\u001b[38;5;28;43;01mif\u001b[39;49;00m\u001b[43m \u001b[49m\u001b[43mrun_managers\u001b[49m\u001b[43m \u001b[49m\u001b[38;5;28;43;01melse\u001b[39;49;00m\u001b[43m \u001b[49m\u001b[38;5;28;43;01mNone\u001b[39;49;00m\u001b[43m,\u001b[49m\n\u001b[1;32m    784\u001b[0m \u001b[43m                \u001b[49m\u001b[38;5;241;43m*\u001b[39;49m\u001b[38;5;241;43m*\u001b[39;49m\u001b[43mkwargs\u001b[49m\u001b[43m,\u001b[49m\n\u001b[1;32m    785\u001b[0m \u001b[43m            \u001b[49m\u001b[43m)\u001b[49m\n\u001b[1;32m    786\u001b[0m             \u001b[38;5;28;01mif\u001b[39;00m new_arg_supported\n\u001b[1;32m    787\u001b[0m             \u001b[38;5;28;01melse\u001b[39;00m \u001b[38;5;28mself\u001b[39m\u001b[38;5;241m.\u001b[39m_generate(prompts, stop\u001b[38;5;241m=\u001b[39mstop)\n\u001b[1;32m    788\u001b[0m         )\n\u001b[1;32m    789\u001b[0m     \u001b[38;5;28;01mexcept\u001b[39;00m \u001b[38;5;167;01mBaseException\u001b[39;00m \u001b[38;5;28;01mas\u001b[39;00m e:\n\u001b[1;32m    790\u001b[0m         \u001b[38;5;28;01mfor\u001b[39;00m run_manager \u001b[38;5;129;01min\u001b[39;00m run_managers:\n",
      "File \u001b[0;32m~/.python/current/lib/python3.12/site-packages/langchain_core/language_models/llms.py:1502\u001b[0m, in \u001b[0;36mLLM._generate\u001b[0;34m(self, prompts, stop, run_manager, **kwargs)\u001b[0m\n\u001b[1;32m   1499\u001b[0m new_arg_supported \u001b[38;5;241m=\u001b[39m inspect\u001b[38;5;241m.\u001b[39msignature(\u001b[38;5;28mself\u001b[39m\u001b[38;5;241m.\u001b[39m_call)\u001b[38;5;241m.\u001b[39mparameters\u001b[38;5;241m.\u001b[39mget(\u001b[38;5;124m\"\u001b[39m\u001b[38;5;124mrun_manager\u001b[39m\u001b[38;5;124m\"\u001b[39m)\n\u001b[1;32m   1500\u001b[0m \u001b[38;5;28;01mfor\u001b[39;00m prompt \u001b[38;5;129;01min\u001b[39;00m prompts:\n\u001b[1;32m   1501\u001b[0m     text \u001b[38;5;241m=\u001b[39m (\n\u001b[0;32m-> 1502\u001b[0m         \u001b[38;5;28;43mself\u001b[39;49m\u001b[38;5;241;43m.\u001b[39;49m\u001b[43m_call\u001b[49m\u001b[43m(\u001b[49m\u001b[43mprompt\u001b[49m\u001b[43m,\u001b[49m\u001b[43m \u001b[49m\u001b[43mstop\u001b[49m\u001b[38;5;241;43m=\u001b[39;49m\u001b[43mstop\u001b[49m\u001b[43m,\u001b[49m\u001b[43m \u001b[49m\u001b[43mrun_manager\u001b[49m\u001b[38;5;241;43m=\u001b[39;49m\u001b[43mrun_manager\u001b[49m\u001b[43m,\u001b[49m\u001b[43m \u001b[49m\u001b[38;5;241;43m*\u001b[39;49m\u001b[38;5;241;43m*\u001b[39;49m\u001b[43mkwargs\u001b[49m\u001b[43m)\u001b[49m\n\u001b[1;32m   1503\u001b[0m         \u001b[38;5;28;01mif\u001b[39;00m new_arg_supported\n\u001b[1;32m   1504\u001b[0m         \u001b[38;5;28;01melse\u001b[39;00m \u001b[38;5;28mself\u001b[39m\u001b[38;5;241m.\u001b[39m_call(prompt, stop\u001b[38;5;241m=\u001b[39mstop, \u001b[38;5;241m*\u001b[39m\u001b[38;5;241m*\u001b[39mkwargs)\n\u001b[1;32m   1505\u001b[0m     )\n\u001b[1;32m   1506\u001b[0m     generations\u001b[38;5;241m.\u001b[39mappend([Generation(text\u001b[38;5;241m=\u001b[39mtext)])\n\u001b[1;32m   1507\u001b[0m \u001b[38;5;28;01mreturn\u001b[39;00m LLMResult(generations\u001b[38;5;241m=\u001b[39mgenerations)\n",
      "File \u001b[0;32m~/.python/current/lib/python3.12/site-packages/langchain_huggingface/llms/huggingface_endpoint.py:312\u001b[0m, in \u001b[0;36mHuggingFaceEndpoint._call\u001b[0;34m(self, prompt, stop, run_manager, **kwargs)\u001b[0m\n\u001b[1;32m    308\u001b[0m \u001b[38;5;28;01melse\u001b[39;00m:\n\u001b[1;32m    309\u001b[0m     invocation_params[\u001b[38;5;124m\"\u001b[39m\u001b[38;5;124mstop\u001b[39m\u001b[38;5;124m\"\u001b[39m] \u001b[38;5;241m=\u001b[39m invocation_params[\n\u001b[1;32m    310\u001b[0m         \u001b[38;5;124m\"\u001b[39m\u001b[38;5;124mstop_sequences\u001b[39m\u001b[38;5;124m\"\u001b[39m\n\u001b[1;32m    311\u001b[0m     ]  \u001b[38;5;66;03m# porting 'stop_sequences' into the 'stop' argument\u001b[39;00m\n\u001b[0;32m--> 312\u001b[0m     response \u001b[38;5;241m=\u001b[39m \u001b[38;5;28;43mself\u001b[39;49m\u001b[38;5;241;43m.\u001b[39;49m\u001b[43mclient\u001b[49m\u001b[38;5;241;43m.\u001b[39;49m\u001b[43mpost\u001b[49m\u001b[43m(\u001b[49m\n\u001b[1;32m    313\u001b[0m \u001b[43m        \u001b[49m\u001b[43mjson\u001b[49m\u001b[38;5;241;43m=\u001b[39;49m\u001b[43m{\u001b[49m\u001b[38;5;124;43m\"\u001b[39;49m\u001b[38;5;124;43minputs\u001b[39;49m\u001b[38;5;124;43m\"\u001b[39;49m\u001b[43m:\u001b[49m\u001b[43m \u001b[49m\u001b[43mprompt\u001b[49m\u001b[43m,\u001b[49m\u001b[43m \u001b[49m\u001b[38;5;124;43m\"\u001b[39;49m\u001b[38;5;124;43mparameters\u001b[39;49m\u001b[38;5;124;43m\"\u001b[39;49m\u001b[43m:\u001b[49m\u001b[43m \u001b[49m\u001b[43minvocation_params\u001b[49m\u001b[43m}\u001b[49m\u001b[43m,\u001b[49m\n\u001b[1;32m    314\u001b[0m \u001b[43m        \u001b[49m\u001b[43mstream\u001b[49m\u001b[38;5;241;43m=\u001b[39;49m\u001b[38;5;28;43;01mFalse\u001b[39;49;00m\u001b[43m,\u001b[49m\n\u001b[1;32m    315\u001b[0m \u001b[43m        \u001b[49m\u001b[43mtask\u001b[49m\u001b[38;5;241;43m=\u001b[39;49m\u001b[38;5;28;43mself\u001b[39;49m\u001b[38;5;241;43m.\u001b[39;49m\u001b[43mtask\u001b[49m\u001b[43m,\u001b[49m\n\u001b[1;32m    316\u001b[0m \u001b[43m    \u001b[49m\u001b[43m)\u001b[49m\n\u001b[1;32m    317\u001b[0m     response_text \u001b[38;5;241m=\u001b[39m json\u001b[38;5;241m.\u001b[39mloads(response\u001b[38;5;241m.\u001b[39mdecode())[\u001b[38;5;241m0\u001b[39m][\u001b[38;5;124m\"\u001b[39m\u001b[38;5;124mgenerated_text\u001b[39m\u001b[38;5;124m\"\u001b[39m]\n\u001b[1;32m    319\u001b[0m     \u001b[38;5;66;03m# Maybe the generation has stopped at one of the stop sequences:\u001b[39;00m\n\u001b[1;32m    320\u001b[0m     \u001b[38;5;66;03m# then we remove this stop sequence from the end of the generated text\u001b[39;00m\n",
      "File \u001b[0;32m~/.python/current/lib/python3.12/site-packages/huggingface_hub/inference/_client.py:296\u001b[0m, in \u001b[0;36mInferenceClient.post\u001b[0;34m(self, json, data, model, task, stream)\u001b[0m\n\u001b[1;32m    293\u001b[0m         \u001b[38;5;28;01mraise\u001b[39;00m InferenceTimeoutError(\u001b[38;5;124mf\u001b[39m\u001b[38;5;124m\"\u001b[39m\u001b[38;5;124mInference call timed out: \u001b[39m\u001b[38;5;132;01m{\u001b[39;00murl\u001b[38;5;132;01m}\u001b[39;00m\u001b[38;5;124m\"\u001b[39m) \u001b[38;5;28;01mfrom\u001b[39;00m \u001b[38;5;21;01merror\u001b[39;00m  \u001b[38;5;66;03m# type: ignore\u001b[39;00m\n\u001b[1;32m    295\u001b[0m \u001b[38;5;28;01mtry\u001b[39;00m:\n\u001b[0;32m--> 296\u001b[0m     \u001b[43mhf_raise_for_status\u001b[49m\u001b[43m(\u001b[49m\u001b[43mresponse\u001b[49m\u001b[43m)\u001b[49m\n\u001b[1;32m    297\u001b[0m     \u001b[38;5;28;01mreturn\u001b[39;00m response\u001b[38;5;241m.\u001b[39miter_lines() \u001b[38;5;28;01mif\u001b[39;00m stream \u001b[38;5;28;01melse\u001b[39;00m response\u001b[38;5;241m.\u001b[39mcontent\n\u001b[1;32m    298\u001b[0m \u001b[38;5;28;01mexcept\u001b[39;00m HTTPError \u001b[38;5;28;01mas\u001b[39;00m error:\n",
      "File \u001b[0;32m~/.python/current/lib/python3.12/site-packages/huggingface_hub/utils/_http.py:460\u001b[0m, in \u001b[0;36mhf_raise_for_status\u001b[0;34m(response, endpoint_name)\u001b[0m\n\u001b[1;32m    456\u001b[0m \u001b[38;5;28;01melif\u001b[39;00m response\u001b[38;5;241m.\u001b[39mstatus_code \u001b[38;5;241m==\u001b[39m \u001b[38;5;241m400\u001b[39m:\n\u001b[1;32m    457\u001b[0m     message \u001b[38;5;241m=\u001b[39m (\n\u001b[1;32m    458\u001b[0m         \u001b[38;5;124mf\u001b[39m\u001b[38;5;124m\"\u001b[39m\u001b[38;5;130;01m\\n\u001b[39;00m\u001b[38;5;130;01m\\n\u001b[39;00m\u001b[38;5;124mBad request for \u001b[39m\u001b[38;5;132;01m{\u001b[39;00mendpoint_name\u001b[38;5;132;01m}\u001b[39;00m\u001b[38;5;124m endpoint:\u001b[39m\u001b[38;5;124m\"\u001b[39m \u001b[38;5;28;01mif\u001b[39;00m endpoint_name \u001b[38;5;129;01mis\u001b[39;00m \u001b[38;5;129;01mnot\u001b[39;00m \u001b[38;5;28;01mNone\u001b[39;00m \u001b[38;5;28;01melse\u001b[39;00m \u001b[38;5;124m\"\u001b[39m\u001b[38;5;130;01m\\n\u001b[39;00m\u001b[38;5;130;01m\\n\u001b[39;00m\u001b[38;5;124mBad request:\u001b[39m\u001b[38;5;124m\"\u001b[39m\n\u001b[1;32m    459\u001b[0m     )\n\u001b[0;32m--> 460\u001b[0m     \u001b[38;5;28;01mraise\u001b[39;00m _format(BadRequestError, message, response) \u001b[38;5;28;01mfrom\u001b[39;00m \u001b[38;5;21;01me\u001b[39;00m\n\u001b[1;32m    462\u001b[0m \u001b[38;5;28;01melif\u001b[39;00m response\u001b[38;5;241m.\u001b[39mstatus_code \u001b[38;5;241m==\u001b[39m \u001b[38;5;241m403\u001b[39m:\n\u001b[1;32m    463\u001b[0m     message \u001b[38;5;241m=\u001b[39m (\n\u001b[1;32m    464\u001b[0m         \u001b[38;5;124mf\u001b[39m\u001b[38;5;124m\"\u001b[39m\u001b[38;5;130;01m\\n\u001b[39;00m\u001b[38;5;130;01m\\n\u001b[39;00m\u001b[38;5;132;01m{\u001b[39;00mresponse\u001b[38;5;241m.\u001b[39mstatus_code\u001b[38;5;132;01m}\u001b[39;00m\u001b[38;5;124m Forbidden: \u001b[39m\u001b[38;5;132;01m{\u001b[39;00merror_message\u001b[38;5;132;01m}\u001b[39;00m\u001b[38;5;124m.\u001b[39m\u001b[38;5;124m\"\u001b[39m\n\u001b[1;32m    465\u001b[0m         \u001b[38;5;241m+\u001b[39m \u001b[38;5;124mf\u001b[39m\u001b[38;5;124m\"\u001b[39m\u001b[38;5;130;01m\\n\u001b[39;00m\u001b[38;5;124mCannot access content at: \u001b[39m\u001b[38;5;132;01m{\u001b[39;00mresponse\u001b[38;5;241m.\u001b[39murl\u001b[38;5;132;01m}\u001b[39;00m\u001b[38;5;124m.\u001b[39m\u001b[38;5;124m\"\u001b[39m\n\u001b[1;32m    466\u001b[0m         \u001b[38;5;241m+\u001b[39m \u001b[38;5;124m\"\u001b[39m\u001b[38;5;130;01m\\n\u001b[39;00m\u001b[38;5;124mMake sure your token has the correct permissions.\u001b[39m\u001b[38;5;124m\"\u001b[39m\n\u001b[1;32m    467\u001b[0m     )\n",
      "\u001b[0;31mBadRequestError\u001b[0m: (Request ID: WOKDQzfaPcccjSUBnxewb)\n\nBad request:\nAuthorization header is correct, but the token seems invalid"
     ]
    },
    {
     "ename": "",
     "evalue": "",
     "output_type": "error",
     "traceback": [
      "\u001b[1;31mThe Kernel crashed while executing code in the current cell or a previous cell. \n",
      "\u001b[1;31mPlease review the code in the cell(s) to identify a possible cause of the failure. \n",
      "\u001b[1;31mClick <a href='https://aka.ms/vscodeJupyterKernelCrash'>here</a> for more info. \n",
      "\u001b[1;31mView Jupyter <a href='command:jupyter.viewOutput'>log</a> for further details."
     ]
    }
   ],
   "source": [
    "rag_chain.invoke(\"What is the copay for an eye exam in the VSP Network Signature Plan?\")"
   ]
  },
  {
   "cell_type": "markdown",
   "metadata": {},
   "source": [
    "# Evaluating"
   ]
  },
  {
   "cell_type": "code",
   "execution_count": null,
   "metadata": {},
   "outputs": [],
   "source": [
    "# Evaluating\n",
    "!pip install ragas"
   ]
  },
  {
   "cell_type": "code",
   "execution_count": 9,
   "metadata": {},
   "outputs": [],
   "source": [
    "# need to provide question, answer, context, ground truth\n",
    "# answer and context will be evaluated\n",
    "from datasets import Dataset\n",
    "import os\n",
    "from ragas import evaluate\n",
    "from ragas.metrics import faithfulness, answer_correctness"
   ]
  },
  {
   "cell_type": "code",
   "execution_count": 41,
   "metadata": {},
   "outputs": [],
   "source": [
    "data_sample = {\n",
    "    'question': [\n",
    "        'What is the copay for an eye exam in the VSP Network Signature Plan?',\n",
    "        'What is the contact lens allowance for medically necessary lenses under the plan?',\n",
    "        'How often are eye exams covered under the vision plan?',\n",
    "        'What discount is provided for laser correction surgery?'\n",
    "    ],\n",
    "    'answer': [\n",
    "        'The copay for an eye exam in the VSP Network Signature Plan is $10',\n",
    "        'The contact lens allowance for medically necessary lenses under the plan is $0 in-network, meaning there is no out-of-pocket cost for the member. For out-of-network services, the member would pay the amount over $210.',\n",
    "        'Eye exams are covered every calendar year under the vision plan.',\n",
    "        'The discount for laser correction surgery is an average of 10-20% off the usual and customary charge or 5% off the promotional price. Members out-of-pocket costs are limited to $1,800 per eye for LASIK, $1,500 per eye for PRK, or $2,300 per eye for Custom LASIK, Custom PRK, or Bladeless LASIK.'\n",
    "    ],\n",
    "    'contexts': [\n",
    "        [\n",
    "        \"\"\"VISION PLAN C 180 Benefit Summary\n",
    "\n",
    "- · 1 Extra $20 on select brands\n",
    "- · Members can use their in network benefits on line at Eyeconic.com.\n",
    "\n",
    "This document is a summary of the major features of the referenced insurance coverage.  It is intended for illustrative purposes only and does not constitute a contract. The insurance plan documents, including the policy and certificate, comprise the contract for coverage. The full plan description, including the benefits and all terms, limitations and exclusions that apply will be contained in your insurance certificate. The plan documents are the final arbiter of coverage.  Coverage terms may vary by state and actual sold plan. The premium amounts reflected in this summary are an approximation; if there is a discrepancy between this amount and the premium actually billed, the latter prevails.\n",
    "\n",
    "## Manage Your Benefits:\n",
    "\n",
    "Go to www.GuardianAnytime.com to access secure information about your Guardian benefits including access to an image of your ID Card. Your on-line account will be set up within 30 days after your plan effective date.\n",
    "\n",
    "## EXCLUSIONS AND LIMITATIONS\n",
    "\n",
    "Important Information: This policy provides vision care limited benefits health insurance only. It does not provide basic hospital, basic medical or major medical insurance as defined by the New York State Insurance Department. Coverage is limited to those charges that are necessary for a routine vision examination. Co-pays apply. The plan does not pay for: orthoptics or vision training and any associated supplemental testing; medical or surgical treatment of the eye; and eye examination or corrective eyewear required by an employer as a condition of employment; replacement of lenses and frames that are furnished under this plan, which are lost or broken (except at normal intervals when services are otherwise available or a warranty exists). The plan limits benefits for blended lenses, oversized lenses, photochromic lenses, tinted lenses, progressive multifocal lenses, coated or laminated lenses, a frame that exceeds plan allowance, cosmetic lenses; U-V protected lenses and optional cosmetic processes.\n",
    "\n",
    "The services, exclusions and limitations listed above do not constitute a contract and are a summary only. The Guardian plan documents are the final arbiter of coverage. Contract #GP-1-VSN-96-VIS et al.\n",
    "\n",
    "## Laser Correction Surgery:\n",
    "\n",
    "Discounts on average of 10-20% off usual and customary charge or 5% off promotional price for vision laser Surgery. Members out-of-pocket costs are limited to $1,800 per eye for LASIK or $1,500 per eye for PRK or $2300 per eye for Custom LASIK, Custom PRK, or Bladeless LASIK.\n",
    "\n",
    "Laser surgery is not an insured benefit. The surgery is available at a discounted fee. The covered person must pay the entire discounted fee. In addition, the laser surgery discount may not be available in all states.\n",
    "\"\"\"\n",
    "        ],\n",
    "        [\"\"\" VISION PLAN C 180 Benefit Summary\n",
    "\n",
    "- · 1 Extra $20 on select brands\n",
    "- · Members can use their in network benefits on line at Eyeconic.com.\n",
    "\n",
    "This document is a summary of the major features of the referenced insurance coverage.  It is intended for illustrative purposes only and does not constitute a contract. The insurance plan documents, including the policy and certificate, comprise the contract for coverage. The full plan description, including the benefits and all terms, limitations and exclusions that apply will be contained in your insurance certificate. The plan documents are the final arbiter of coverage.  Coverage terms may vary by state and actual sold plan. The premium amounts reflected in this summary are an approximation; if there is a discrepancy between this amount and the premium actually billed, the latter prevails.\n",
    "\n",
    "## Manage Your Benefits:\n",
    "\n",
    "Go to www.GuardianAnytime.com to access secure information about your Guardian benefits including access to an image of your ID Card. Your on-line account will be set up within 30 days after your plan effective date.\n",
    "\n",
    "## EXCLUSIONS AND LIMITATIONS\n",
    "\n",
    "Important Information: This policy provides vision care limited benefits health insurance only. It does not provide basic hospital, basic medical or major medical insurance as defined by the New York State Insurance Department. Coverage is limited to those charges that are necessary for a routine vision examination. Co-pays apply. The plan does not pay for: orthoptics or vision training and any associated supplemental testing; medical or surgical treatment of the eye; and eye examination or corrective eyewear required by an employer as a condition of employment; replacement of lenses and frames that are furnished under this plan, which are lost or broken (except at normal intervals when services are otherwise available or a warranty exists). The plan limits benefits for blended lenses, oversized lenses, photochromic lenses, tinted lenses, progressive multifocal lenses, coated or laminated lenses, a frame that exceeds plan allowance, cosmetic lenses; U-V protected lenses and optional cosmetic processes.\n",
    "\n",
    "The services, exclusions and limitations listed above do not constitute a contract and are a summary only. The Guardian plan documents are the final arbiter of coverage. Contract #GP-1-VSN-96-VIS et al.\n",
    "\n",
    "## Laser Correction Surgery:\n",
    "\n",
    "Discounts on average of 10-20% off usual and customary charge or 5% off promotional price for vision laser Surgery. Members out-of-pocket costs are limited to $1,800 per eye for LASIK or $1,500 per eye for PRK or $2300 per eye for Custom LASIK, Custom PRK, or Bladeless LASIK.\n",
    "\n",
    "Laser surgery is not an insured benefit. The surgery is available at a discounted fee. The covered person must pay the entire discounted fee. In addition, the laser surgery discount may not be available in all states.\n",
    "\"\"\"],\n",
    "        [\n",
    "            \"\"\"\n",
    "VISION PLAN C 180 Benefit Summary\n",
    "\n",
    "- · 1 Extra $20 on select brands\n",
    "- · Members can use their in network benefits on line at Eyeconic.com.\n",
    "\n",
    "This document is a summary of the major features of the referenced insurance coverage.  It is intended for illustrative purposes only and does not constitute a contract. The insurance plan documents, including the policy and certificate, comprise the contract for coverage. The full plan description, including the benefits and all terms, limitations and exclusions that apply will be contained in your insurance certificate. The plan documents are the final arbiter of coverage.  Coverage terms may vary by state and actual sold plan. The premium amounts reflected in this summary are an approximation; if there is a discrepancy between this amount and the premium actually billed, the latter prevails.\n",
    "\n",
    "## Manage Your Benefits:\n",
    "\n",
    "Go to www.GuardianAnytime.com to access secure information about your Guardian benefits including access to an image of your ID Card. Your on-line account will be set up within 30 days after your plan effective date.\n",
    "\n",
    "## EXCLUSIONS AND LIMITATIONS\n",
    "\n",
    "Important Information: This policy provides vision care limited benefits health insurance only. It does not provide basic hospital, basic medical or major medical insurance as defined by the New York State Insurance Department. Coverage is limited to those charges that are necessary for a routine vision examination. Co-pays apply. The plan does not pay for: orthoptics or vision training and any associated supplemental testing; medical or surgical treatment of the eye; and eye examination or corrective eyewear required by an employer as a condition of employment; replacement of lenses and frames that are furnished under this plan, which are lost or broken (except at normal intervals when services are otherwise available or a warranty exists). The plan limits benefits for blended lenses, oversized lenses, photochromic lenses, tinted lenses, progressive multifocal lenses, coated or laminated lenses, a frame that exceeds plan allowance, cosmetic lenses; U-V protected lenses and optional cosmetic processes.\n",
    "\n",
    "The services, exclusions and limitations listed above do not constitute a contract and are a summary only. The Guardian plan documents are the final arbiter of coverage. Contract #GP-1-VSN-96-VIS et al.\n",
    "\n",
    "## Laser Correction Surgery:\n",
    "\n",
    "Discounts on average of 10-20% off usual and customary charge or 5% off promotional price for vision laser Surgery. Members out-of-pocket costs are limited to $1,800 per eye for LASIK or $1,500 per eye for PRK or $2300 per eye for Custom LASIK, Custom PRK, or Bladeless LASIK.\n",
    "\n",
    "...\n",
    "\"\"\"\n",
    "        ],\n",
    "        [\n",
    "            \"\"\"VISION PLAN C 180 Benefit Summary\n",
    "\n",
    "- · 1 Extra $20 on select brands\n",
    "- · Members can use their in network benefits on line at Eyeconic.com.\n",
    "\n",
    "This document is a summary of the major features of the referenced insurance coverage.  It is intended for illustrative purposes only and does not constitute a contract. The insurance plan documents, including the policy and certificate, comprise the contract for coverage. The full plan description, including the benefits and all terms, limitations and exclusions that apply will be contained in your insurance certificate. The plan documents are the final arbiter of coverage.  Coverage terms may vary by state and actual sold plan. The premium amounts reflected in this summary are an approximation; if there is a discrepancy between this amount and the premium actually billed, the latter prevails.\n",
    "\n",
    "## Manage Your Benefits:\n",
    "\n",
    "Go to www.GuardianAnytime.com to access secure information about your Guardian benefits including access to an image of your ID Card. Your on-line account will be set up within 30 days after your plan effective date.\n",
    "\n",
    "## EXCLUSIONS AND LIMITATIONS\n",
    "\n",
    "Important Information: This policy provides vision care limited benefits health insurance only. It does not provide basic hospital, basic medical or major medical insurance as defined by the New York State Insurance Department. Coverage is limited to those charges that are necessary for a routine vision examination. Co-pays apply. The plan does not pay for: orthoptics or vision training and any associated supplemental testing; medical or surgical treatment of the eye; and eye examination or corrective eyewear required by an employer as a condition of employment; replacement of lenses and frames that are furnished under this plan, which are lost or broken (except at normal intervals when services are otherwise available or a warranty exists). The plan limits benefits for blended lenses, oversized lenses, photochromic lenses, tinted lenses, progressive multifocal lenses, coated or laminated lenses, a frame that exceeds plan allowance, cosmetic lenses; U-V protected lenses and optional cosmetic processes.\n",
    "\n",
    "The services, exclusions and limitations listed above do not constitute a contract and are a summary only. The Guardian plan documents are the final arbiter of coverage. Contract #GP-1-VSN-96-VIS et al.\n",
    "\n",
    "## Laser Correction Surgery:\n",
    "\n",
    "Discounts on average of 10-20% off usual and customary charge or 5% off promotional price for vision laser Surgery. Members out-of-pocket costs are limited to $1,800 per eye for LASIK or $1,500 per eye for PRK or $2300 per eye for Custom LASIK, Custom PRK, or Bladeless LASIK.\n",
    "\n",
    "Laser surgery is not an insured benefit. The surgery is available at a discounted fee\"\"\"\n",
    "        ]\n",
    "    ],\n",
    "    'ground_truth': [\n",
    "       '$10',\n",
    "        'Amount over $210',\n",
    "        'Every calendar year',\n",
    "        'Average of 10-20% off usual and customary charges or 5% off promotional prices'\n",
    "    ]\n",
    "}\n"
   ]
  },
  {
   "cell_type": "code",
   "execution_count": 42,
   "metadata": {},
   "outputs": [],
   "source": [
    "dataset = Dataset.from_dict(data_sample)"
   ]
  },
  {
   "cell_type": "markdown",
   "metadata": {},
   "source": [
    "Faithfulness - factual consistenciy of the generated answer against the given context. "
   ]
  },
  {
   "cell_type": "code",
   "execution_count": 43,
   "metadata": {},
   "outputs": [
    {
     "data": {
      "application/vnd.jupyter.widget-view+json": {
       "model_id": "3b50252b7e0c4d46ace541cede7d57b1",
       "version_major": 2,
       "version_minor": 0
      },
      "text/plain": [
       "Evaluating:   0%|          | 0/4 [00:00<?, ?it/s]"
      ]
     },
     "metadata": {},
     "output_type": "display_data"
    }
   ],
   "source": [
    "score = evaluate(dataset, metrics=[faithfulness])"
   ]
  },
  {
   "cell_type": "code",
   "execution_count": 44,
   "metadata": {},
   "outputs": [
    {
     "data": {
      "text/plain": [
       "{'faithfulness': 0.3393}"
      ]
     },
     "execution_count": 44,
     "metadata": {},
     "output_type": "execute_result"
    }
   ],
   "source": [
    "score"
   ]
  },
  {
   "cell_type": "code",
   "execution_count": null,
   "metadata": {},
   "outputs": [
    {
     "data": {
      "text/plain": [
       "0.9999999999"
      ]
     },
     "execution_count": 48,
     "metadata": {},
     "output_type": "execute_result"
    }
   ],
   "source": [
    "from ragas import SingleTurnSample\n",
    "from ragas.metrics import NonLLMContextPrecisionWithReference\n",
    "\n",
    "context_precision = NonLLMContextPrecisionWithReference()\n",
    "\n",
    "sample = SingleTurnSample(\n",
    "    retrieved_contexts=[\"\"], \n",
    "    reference_contexts=[\"Paris is the capital of France.\", \"The Eiffel Tower is one of the most famous landmarks in Paris.\"]\n",
    ")\n",
    "\n",
    "await context_precision.single_turn_ascore(sample)"
   ]
  },
  {
   "cell_type": "code",
   "execution_count": 54,
   "metadata": {},
   "outputs": [
    {
     "data": {
      "text/plain": [
       "0.5"
      ]
     },
     "execution_count": 54,
     "metadata": {},
     "output_type": "execute_result"
    }
   ],
   "source": [
    "from ragas.dataset_schema import SingleTurnSample\n",
    "from ragas.metrics import NonLLMContextRecall\n",
    "\n",
    "sample = SingleTurnSample(\n",
    "    retrieved_contexts=[\"Paris is the capital of France.\"], \n",
    "    reference_contexts=[\"Paris is the capital of France.\", \"The Eiffel Tower is one of the most famous landmarks in Paris.\"]\n",
    ")\n",
    "\n",
    "context_recall = NonLLMContextRecall()\n",
    "await context_recall.single_turn_ascore(sample)"
   ]
  },
  {
   "cell_type": "code",
   "execution_count": 72,
   "metadata": {},
   "outputs": [
    {
     "ename": "AssertionError",
     "evalue": "LLM is not set",
     "output_type": "error",
     "traceback": [
      "\u001b[0;31m---------------------------------------------------------------------------\u001b[0m",
      "\u001b[0;31mAssertionError\u001b[0m                            Traceback (most recent call last)",
      "Cell \u001b[0;32mIn[72], line 17\u001b[0m\n\u001b[1;32m      4\u001b[0m sample \u001b[38;5;241m=\u001b[39m SingleTurnSample(\n\u001b[1;32m      5\u001b[0m     user_input\u001b[38;5;241m=\u001b[39m\u001b[38;5;124m\"\u001b[39m\u001b[38;5;124mWhat is the Life Insurance Corporation of India (LIC) known for?\u001b[39m\u001b[38;5;124m\"\u001b[39m,\n\u001b[1;32m      6\u001b[0m     response\u001b[38;5;241m=\u001b[39m\u001b[38;5;124m\"\u001b[39m\u001b[38;5;124mThe Life Insurance Corporation of India (LIC) is the largest insurance company in India, known for its vast portfolio of investments. LIC contributes to the financial stability of the country.\u001b[39m\u001b[38;5;124m\"\u001b[39m,\n\u001b[0;32m   (...)\u001b[0m\n\u001b[1;32m     13\u001b[0m     ]\n\u001b[1;32m     14\u001b[0m )\n\u001b[1;32m     16\u001b[0m scorer \u001b[38;5;241m=\u001b[39m NoiseSensitivity()\n\u001b[0;32m---> 17\u001b[0m \u001b[38;5;28;01mawait\u001b[39;00m scorer\u001b[38;5;241m.\u001b[39msingle_turn_ascore(sample)\n",
      "File \u001b[0;32m/usr/local/python/3.12.1/lib/python3.12/site-packages/ragas/metrics/base.py:505\u001b[0m, in \u001b[0;36mSingleTurnMetric.single_turn_ascore\u001b[0;34m(self, sample, callbacks, timeout)\u001b[0m\n\u001b[1;32m    503\u001b[0m     \u001b[38;5;28;01mif\u001b[39;00m \u001b[38;5;129;01mnot\u001b[39;00m group_cm\u001b[38;5;241m.\u001b[39mended:\n\u001b[1;32m    504\u001b[0m         rm\u001b[38;5;241m.\u001b[39mon_chain_error(e)\n\u001b[0;32m--> 505\u001b[0m     \u001b[38;5;28;01mraise\u001b[39;00m e\n\u001b[1;32m    506\u001b[0m \u001b[38;5;28;01melse\u001b[39;00m:\n\u001b[1;32m    507\u001b[0m     \u001b[38;5;28;01mif\u001b[39;00m \u001b[38;5;129;01mnot\u001b[39;00m group_cm\u001b[38;5;241m.\u001b[39mended:\n",
      "File \u001b[0;32m/usr/local/python/3.12.1/lib/python3.12/site-packages/ragas/metrics/base.py:498\u001b[0m, in \u001b[0;36mSingleTurnMetric.single_turn_ascore\u001b[0;34m(self, sample, callbacks, timeout)\u001b[0m\n\u001b[1;32m    491\u001b[0m rm, group_cm \u001b[38;5;241m=\u001b[39m new_group(\n\u001b[1;32m    492\u001b[0m     \u001b[38;5;28mself\u001b[39m\u001b[38;5;241m.\u001b[39mname,\n\u001b[1;32m    493\u001b[0m     inputs\u001b[38;5;241m=\u001b[39msample\u001b[38;5;241m.\u001b[39mto_dict(),\n\u001b[1;32m    494\u001b[0m     callbacks\u001b[38;5;241m=\u001b[39mcallbacks,\n\u001b[1;32m    495\u001b[0m     metadata\u001b[38;5;241m=\u001b[39m{\u001b[38;5;124m\"\u001b[39m\u001b[38;5;124mtype\u001b[39m\u001b[38;5;124m\"\u001b[39m: ChainType\u001b[38;5;241m.\u001b[39mMETRIC},\n\u001b[1;32m    496\u001b[0m )\n\u001b[1;32m    497\u001b[0m \u001b[38;5;28;01mtry\u001b[39;00m:\n\u001b[0;32m--> 498\u001b[0m     score \u001b[38;5;241m=\u001b[39m \u001b[38;5;28;01mawait\u001b[39;00m asyncio\u001b[38;5;241m.\u001b[39mwait_for(\n\u001b[1;32m    499\u001b[0m         \u001b[38;5;28mself\u001b[39m\u001b[38;5;241m.\u001b[39m_single_turn_ascore(sample\u001b[38;5;241m=\u001b[39msample, callbacks\u001b[38;5;241m=\u001b[39mgroup_cm),\n\u001b[1;32m    500\u001b[0m         timeout\u001b[38;5;241m=\u001b[39mtimeout,\n\u001b[1;32m    501\u001b[0m     )\n\u001b[1;32m    502\u001b[0m \u001b[38;5;28;01mexcept\u001b[39;00m \u001b[38;5;167;01mException\u001b[39;00m \u001b[38;5;28;01mas\u001b[39;00m e:\n\u001b[1;32m    503\u001b[0m     \u001b[38;5;28;01mif\u001b[39;00m \u001b[38;5;129;01mnot\u001b[39;00m group_cm\u001b[38;5;241m.\u001b[39mended:\n",
      "File \u001b[0;32m/usr/local/python/3.12.1/lib/python3.12/asyncio/tasks.py:520\u001b[0m, in \u001b[0;36mwait_for\u001b[0;34m(fut, timeout)\u001b[0m\n\u001b[1;32m    517\u001b[0m         \u001b[38;5;28;01mraise\u001b[39;00m \u001b[38;5;167;01mTimeoutError\u001b[39;00m \u001b[38;5;28;01mfrom\u001b[39;00m \u001b[38;5;21;01mexc\u001b[39;00m\n\u001b[1;32m    519\u001b[0m \u001b[38;5;28;01masync\u001b[39;00m \u001b[38;5;28;01mwith\u001b[39;00m timeouts\u001b[38;5;241m.\u001b[39mtimeout(timeout):\n\u001b[0;32m--> 520\u001b[0m     \u001b[38;5;28;01mreturn\u001b[39;00m \u001b[38;5;28;01mawait\u001b[39;00m fut\n",
      "File \u001b[0;32m/usr/local/python/3.12.1/lib/python3.12/site-packages/ragas/metrics/_noise_sensitivity.py:153\u001b[0m, in \u001b[0;36mNoiseSensitivity._single_turn_ascore\u001b[0;34m(self, sample, callbacks)\u001b[0m\n\u001b[1;32m    149\u001b[0m \u001b[38;5;28;01masync\u001b[39;00m \u001b[38;5;28;01mdef\u001b[39;00m \u001b[38;5;21m_single_turn_ascore\u001b[39m(\n\u001b[1;32m    150\u001b[0m     \u001b[38;5;28mself\u001b[39m, sample: SingleTurnSample, callbacks: Callbacks\n\u001b[1;32m    151\u001b[0m ) \u001b[38;5;241m-\u001b[39m\u001b[38;5;241m>\u001b[39m \u001b[38;5;28mfloat\u001b[39m:\n\u001b[1;32m    152\u001b[0m     row \u001b[38;5;241m=\u001b[39m sample\u001b[38;5;241m.\u001b[39mto_dict()\n\u001b[0;32m--> 153\u001b[0m     \u001b[38;5;28;01mreturn\u001b[39;00m \u001b[38;5;28;01mawait\u001b[39;00m \u001b[38;5;28mself\u001b[39m\u001b[38;5;241m.\u001b[39m_ascore(row, callbacks)\n",
      "File \u001b[0;32m/usr/local/python/3.12.1/lib/python3.12/site-packages/ragas/metrics/_noise_sensitivity.py:159\u001b[0m, in \u001b[0;36mNoiseSensitivity._ascore\u001b[0;34m(self, row, callbacks)\u001b[0m\n\u001b[1;32m    155\u001b[0m \u001b[38;5;28;01masync\u001b[39;00m \u001b[38;5;28;01mdef\u001b[39;00m \u001b[38;5;21m_ascore\u001b[39m(\u001b[38;5;28mself\u001b[39m, row: t\u001b[38;5;241m.\u001b[39mDict, callbacks: Callbacks) \u001b[38;5;241m-\u001b[39m\u001b[38;5;241m>\u001b[39m \u001b[38;5;28mfloat\u001b[39m:\n\u001b[1;32m    156\u001b[0m \u001b[38;5;250m    \u001b[39m\u001b[38;5;124;03m\"\"\"\u001b[39;00m\n\u001b[1;32m    157\u001b[0m \u001b[38;5;124;03m    returns the NLI score for each (q, c, a) pair\u001b[39;00m\n\u001b[1;32m    158\u001b[0m \u001b[38;5;124;03m    \"\"\"\u001b[39;00m\n\u001b[0;32m--> 159\u001b[0m     \u001b[38;5;28;01massert\u001b[39;00m \u001b[38;5;28mself\u001b[39m\u001b[38;5;241m.\u001b[39mllm \u001b[38;5;129;01mis\u001b[39;00m \u001b[38;5;129;01mnot\u001b[39;00m \u001b[38;5;28;01mNone\u001b[39;00m, \u001b[38;5;124m\"\u001b[39m\u001b[38;5;124mLLM is not set\u001b[39m\u001b[38;5;124m\"\u001b[39m\n\u001b[1;32m    161\u001b[0m     gt_statements \u001b[38;5;241m=\u001b[39m \u001b[38;5;28;01mawait\u001b[39;00m \u001b[38;5;28mself\u001b[39m\u001b[38;5;241m.\u001b[39m_decompose_answer_into_statements(\n\u001b[1;32m    162\u001b[0m         row[\u001b[38;5;124m\"\u001b[39m\u001b[38;5;124mreference\u001b[39m\u001b[38;5;124m\"\u001b[39m], row[\u001b[38;5;124m\"\u001b[39m\u001b[38;5;124muser_input\u001b[39m\u001b[38;5;124m\"\u001b[39m], callbacks\n\u001b[1;32m    163\u001b[0m     )\n\u001b[1;32m    164\u001b[0m     ans_statements \u001b[38;5;241m=\u001b[39m \u001b[38;5;28;01mawait\u001b[39;00m \u001b[38;5;28mself\u001b[39m\u001b[38;5;241m.\u001b[39m_decompose_answer_into_statements(\n\u001b[1;32m    165\u001b[0m         row[\u001b[38;5;124m\"\u001b[39m\u001b[38;5;124mresponse\u001b[39m\u001b[38;5;124m\"\u001b[39m], row[\u001b[38;5;124m\"\u001b[39m\u001b[38;5;124muser_input\u001b[39m\u001b[38;5;124m\"\u001b[39m], callbacks\n\u001b[1;32m    166\u001b[0m     )\n",
      "\u001b[0;31mAssertionError\u001b[0m: LLM is not set"
     ]
    }
   ],
   "source": []
  },
  {
   "cell_type": "code",
   "execution_count": null,
   "metadata": {},
   "outputs": [],
   "source": []
  }
 ],
 "metadata": {
  "kernelspec": {
   "display_name": "Python 3",
   "language": "python",
   "name": "python3"
  },
  "language_info": {
   "codemirror_mode": {
    "name": "ipython",
    "version": 3
   },
   "file_extension": ".py",
   "mimetype": "text/x-python",
   "name": "python",
   "nbconvert_exporter": "python",
   "pygments_lexer": "ipython3",
   "version": "3.12.1"
  }
 },
 "nbformat": 4,
 "nbformat_minor": 2
}
