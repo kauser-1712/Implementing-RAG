{
 "cells": [
  {
   "cell_type": "code",
   "execution_count": null,
   "metadata": {},
   "outputs": [],
   "source": [
    "!pip install docling"
   ]
  },
  {
   "cell_type": "code",
   "execution_count": 1,
   "metadata": {},
   "outputs": [],
   "source": [
    "# importing required modules\n",
    "from docling.document_converter import DocumentConverter\n",
    "import os"
   ]
  },
  {
   "cell_type": "code",
   "execution_count": null,
   "metadata": {},
   "outputs": [],
   "source": [
    "# path to the folder\n",
    "folder_path='data/'\n",
    "\n",
    "# instance for document converter\n",
    "converter = DocumentConverter()"
   ]
  },
  {
   "cell_type": "code",
   "execution_count": null,
   "metadata": {},
   "outputs": [],
   "source": [
    "# iterating over the files in the folder\n",
    "for file_name in os.listdir(folder_path):\n",
    "    file_path = os.path.join(folder_path,file_name)\n",
    "    if file_name.endswith('.pdf'):\n",
    "        print(f'Processing {file_name}....')\n",
    "        result = converter.convert(file_path)\n",
    "        # exporting to md\n",
    "        md_content = result.document.export_to_markdown()\n",
    "        print(md_content)\n",
    "        output_file=os.path.join(folder_path,f'{os.patj.splitext(file_name)[0]}.md')\n",
    "        with open(output_file,'w',encoding='utf-8') as f:\n",
    "            f.write(md_content)\n"
   ]
  },
  {
   "cell_type": "code",
   "execution_count": null,
   "metadata": {},
   "outputs": [],
   "source": [
    "# source\n",
    "source: str = '/workspaces/Implementing-RAG/data/Cigna.pdf'\n",
    "converter = DocumentConverter()\n",
    "result = converter.convert(source)\n",
    "markdown_content = result.document.export_to_markdown()\n",
    "\n",
    "directory, file_name = os.path.split(source)\n",
    "base_name, _ = os.path.splitext(file_name)\n",
    "output_folder = '/workspaces/Implementing-RAG/extracted_data'\n",
    "# os.makedirs(output_folder)\n",
    "output_file = os.path.join(output_folder,f\"{base_name}.md\")\n",
    "with open(output_file, 'w', encoding='utf-8') as f:\n",
    "    f.write(markdown_content)\n",
    "print(f\"Markdown saved to: {output_file}\")"
   ]
  }
 ],
 "metadata": {
  "kernelspec": {
   "display_name": "Python 3",
   "language": "python",
   "name": "python3"
  },
  "language_info": {
   "codemirror_mode": {
    "name": "ipython",
    "version": 3
   },
   "file_extension": ".py",
   "mimetype": "text/x-python",
   "name": "python",
   "nbconvert_exporter": "python",
   "pygments_lexer": "ipython3",
   "version": "3.12.1"
  }
 },
 "nbformat": 4,
 "nbformat_minor": 2
}
