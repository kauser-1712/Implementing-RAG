{
 "cells": [
  {
   "cell_type": "code",
   "execution_count": null,
   "metadata": {},
   "outputs": [],
   "source": []
  },
  {
   "cell_type": "code",
   "execution_count": 2,
   "metadata": {},
   "outputs": [
    {
     "name": "stdout",
     "output_type": "stream",
     "text": [
      "Requirement already satisfied: docling in /usr/local/python/3.12.1/lib/python3.12/site-packages (2.10.0)\n",
      "Requirement already satisfied: beautifulsoup4<5.0.0,>=4.12.3 in /usr/local/python/3.12.1/lib/python3.12/site-packages (from docling) (4.12.3)\n",
      "Requirement already satisfied: certifi>=2024.7.4 in /usr/local/python/3.12.1/lib/python3.12/site-packages (from docling) (2024.8.30)\n",
      "Requirement already satisfied: deepsearch-glm<2.0.0,>=1.0.0 in /usr/local/python/3.12.1/lib/python3.12/site-packages (from docling) (1.0.0)\n",
      "Requirement already satisfied: docling-core<3.0.0,>=2.9.0 in /usr/local/python/3.12.1/lib/python3.12/site-packages (from docling-core[chunking]<3.0.0,>=2.9.0->docling) (2.9.0)\n",
      "Requirement already satisfied: docling-ibm-models<3.0.0,>=2.0.6 in /usr/local/python/3.12.1/lib/python3.12/site-packages (from docling) (2.0.8)\n",
      "Requirement already satisfied: docling-parse<4.0.0,>=3.0.0 in /usr/local/python/3.12.1/lib/python3.12/site-packages (from docling) (3.0.0)\n",
      "Requirement already satisfied: easyocr<2.0,>=1.7 in /usr/local/python/3.12.1/lib/python3.12/site-packages (from docling) (1.7.2)\n",
      "Requirement already satisfied: filetype<2.0.0,>=1.2.0 in /usr/local/python/3.12.1/lib/python3.12/site-packages (from docling) (1.2.0)\n",
      "Requirement already satisfied: huggingface_hub<1,>=0.23 in /usr/local/python/3.12.1/lib/python3.12/site-packages (from docling) (0.26.5)\n",
      "Requirement already satisfied: lxml<6.0.0,>=4.0.0 in /usr/local/python/3.12.1/lib/python3.12/site-packages (from docling) (5.3.0)\n",
      "Requirement already satisfied: marko<3.0.0,>=2.1.2 in /usr/local/python/3.12.1/lib/python3.12/site-packages (from docling) (2.1.2)\n",
      "Requirement already satisfied: openpyxl<4.0.0,>=3.1.5 in /usr/local/python/3.12.1/lib/python3.12/site-packages (from docling) (3.1.5)\n",
      "Requirement already satisfied: pandas<3.0.0,>=2.1.4 in /usr/local/python/3.12.1/lib/python3.12/site-packages (from docling) (2.2.3)\n",
      "Requirement already satisfied: pydantic<3.0.0,>=2.0.0 in /usr/local/python/3.12.1/lib/python3.12/site-packages (from docling) (2.9.2)\n",
      "Requirement already satisfied: pydantic-settings<3.0.0,>=2.3.0 in /usr/local/python/3.12.1/lib/python3.12/site-packages (from docling) (2.6.1)\n",
      "Requirement already satisfied: pypdfium2<5.0.0,>=4.30.0 in /usr/local/python/3.12.1/lib/python3.12/site-packages (from docling) (4.30.0)\n",
      "Requirement already satisfied: python-docx<2.0.0,>=1.1.2 in /usr/local/python/3.12.1/lib/python3.12/site-packages (from docling) (1.1.2)\n",
      "Requirement already satisfied: python-pptx<2.0.0,>=1.0.2 in /usr/local/python/3.12.1/lib/python3.12/site-packages (from docling) (1.0.2)\n",
      "Requirement already satisfied: requests<3.0.0,>=2.32.3 in /usr/local/python/3.12.1/lib/python3.12/site-packages (from docling) (2.32.3)\n",
      "Requirement already satisfied: rtree<2.0.0,>=1.3.0 in /usr/local/python/3.12.1/lib/python3.12/site-packages (from docling) (1.3.0)\n",
      "Requirement already satisfied: scipy<2.0.0,>=1.6.0 in /home/codespace/.local/lib/python3.12/site-packages (from docling) (1.14.1)\n",
      "Requirement already satisfied: typer<0.13.0,>=0.12.5 in /usr/local/python/3.12.1/lib/python3.12/site-packages (from docling) (0.12.5)\n",
      "Requirement already satisfied: soupsieve>1.2 in /usr/local/python/3.12.1/lib/python3.12/site-packages (from beautifulsoup4<5.0.0,>=4.12.3->docling) (2.6)\n",
      "Requirement already satisfied: jsonref<2.0.0,>=1.1.0 in /usr/local/python/3.12.1/lib/python3.12/site-packages (from docling-core<3.0.0,>=2.9.0->docling-core[chunking]<3.0.0,>=2.9.0->docling) (1.1.0)\n",
      "Requirement already satisfied: jsonschema<5.0.0,>=4.16.0 in /home/codespace/.local/lib/python3.12/site-packages (from docling-core<3.0.0,>=2.9.0->docling-core[chunking]<3.0.0,>=2.9.0->docling) (4.23.0)\n",
      "Requirement already satisfied: pillow<11.0.0,>=10.3.0 in /usr/local/python/3.12.1/lib/python3.12/site-packages (from docling-core<3.0.0,>=2.9.0->docling-core[chunking]<3.0.0,>=2.9.0->docling) (10.4.0)\n",
      "Requirement already satisfied: pyyaml<7.0.0,>=5.1 in /usr/local/python/3.12.1/lib/python3.12/site-packages (from docling-core<3.0.0,>=2.9.0->docling-core[chunking]<3.0.0,>=2.9.0->docling) (6.0.2)\n",
      "Requirement already satisfied: tabulate<0.10.0,>=0.9.0 in /usr/local/python/3.12.1/lib/python3.12/site-packages (from docling-core<3.0.0,>=2.9.0->docling-core[chunking]<3.0.0,>=2.9.0->docling) (0.9.0)\n",
      "Requirement already satisfied: typing-extensions<5.0.0,>=4.12.2 in /usr/local/python/3.12.1/lib/python3.12/site-packages (from docling-core<3.0.0,>=2.9.0->docling-core[chunking]<3.0.0,>=2.9.0->docling) (4.12.2)\n",
      "Requirement already satisfied: semchunk<3.0.0,>=2.2.0 in /usr/local/python/3.12.1/lib/python3.12/site-packages (from docling-core[chunking]<3.0.0,>=2.9.0->docling) (2.2.0)\n",
      "Requirement already satisfied: transformers<5.0.0,>=4.34.0 in /usr/local/python/3.12.1/lib/python3.12/site-packages (from docling-core[chunking]<3.0.0,>=2.9.0->docling) (4.47.0)\n",
      "Requirement already satisfied: jsonlines<4.0.0,>=3.1.0 in /usr/local/python/3.12.1/lib/python3.12/site-packages (from docling-ibm-models<3.0.0,>=2.0.6->docling) (3.1.0)\n",
      "Requirement already satisfied: numpy<3.0.0,>=1.24.4 in /usr/local/python/3.12.1/lib/python3.12/site-packages (from docling-ibm-models<3.0.0,>=2.0.6->docling) (1.26.4)\n",
      "Requirement already satisfied: opencv-python-headless<5.0.0.0,>=4.6.0.66 in /usr/local/python/3.12.1/lib/python3.12/site-packages (from docling-ibm-models<3.0.0,>=2.0.6->docling) (4.10.0.84)\n",
      "Requirement already satisfied: torch<3.0.0,>=2.2.2 in /usr/local/python/3.12.1/lib/python3.12/site-packages (from docling-ibm-models<3.0.0,>=2.0.6->docling) (2.5.1)\n",
      "Requirement already satisfied: torchvision<1,>=0 in /usr/local/python/3.12.1/lib/python3.12/site-packages (from docling-ibm-models<3.0.0,>=2.0.6->docling) (0.20.1)\n",
      "Requirement already satisfied: tqdm<5.0.0,>=4.64.0 in /usr/local/python/3.12.1/lib/python3.12/site-packages (from docling-ibm-models<3.0.0,>=2.0.6->docling) (4.67.1)\n",
      "Requirement already satisfied: autoflake<3.0.0,>=2.3.1 in /usr/local/python/3.12.1/lib/python3.12/site-packages (from docling-parse<4.0.0,>=3.0.0->docling) (2.3.1)\n",
      "Requirement already satisfied: scikit-image in /usr/local/python/3.12.1/lib/python3.12/site-packages (from easyocr<2.0,>=1.7->docling) (0.24.0)\n",
      "Requirement already satisfied: python-bidi in /usr/local/python/3.12.1/lib/python3.12/site-packages (from easyocr<2.0,>=1.7->docling) (0.6.3)\n",
      "Requirement already satisfied: Shapely in /usr/local/python/3.12.1/lib/python3.12/site-packages (from easyocr<2.0,>=1.7->docling) (2.0.6)\n",
      "Requirement already satisfied: pyclipper in /usr/local/python/3.12.1/lib/python3.12/site-packages (from easyocr<2.0,>=1.7->docling) (1.3.0.post6)\n",
      "Requirement already satisfied: ninja in /usr/local/python/3.12.1/lib/python3.12/site-packages (from easyocr<2.0,>=1.7->docling) (1.11.1.2)\n",
      "Requirement already satisfied: filelock in /usr/local/python/3.12.1/lib/python3.12/site-packages (from huggingface_hub<1,>=0.23->docling) (3.16.1)\n",
      "Requirement already satisfied: fsspec>=2023.5.0 in /usr/local/python/3.12.1/lib/python3.12/site-packages (from huggingface_hub<1,>=0.23->docling) (2024.10.0)\n",
      "Requirement already satisfied: packaging>=20.9 in /usr/local/python/3.12.1/lib/python3.12/site-packages (from huggingface_hub<1,>=0.23->docling) (24.2)\n",
      "Requirement already satisfied: et-xmlfile in /usr/local/python/3.12.1/lib/python3.12/site-packages (from openpyxl<4.0.0,>=3.1.5->docling) (2.0.0)\n",
      "Requirement already satisfied: python-dateutil>=2.8.2 in /usr/local/python/3.12.1/lib/python3.12/site-packages (from pandas<3.0.0,>=2.1.4->docling) (2.9.0.post0)\n",
      "Requirement already satisfied: pytz>=2020.1 in /usr/local/python/3.12.1/lib/python3.12/site-packages (from pandas<3.0.0,>=2.1.4->docling) (2024.2)\n",
      "Requirement already satisfied: tzdata>=2022.7 in /usr/local/python/3.12.1/lib/python3.12/site-packages (from pandas<3.0.0,>=2.1.4->docling) (2024.2)\n",
      "Requirement already satisfied: annotated-types>=0.6.0 in /usr/local/python/3.12.1/lib/python3.12/site-packages (from pydantic<3.0.0,>=2.0.0->docling) (0.7.0)\n",
      "Requirement already satisfied: pydantic-core==2.23.4 in /usr/local/python/3.12.1/lib/python3.12/site-packages (from pydantic<3.0.0,>=2.0.0->docling) (2.23.4)\n",
      "Requirement already satisfied: python-dotenv>=0.21.0 in /usr/local/python/3.12.1/lib/python3.12/site-packages (from pydantic-settings<3.0.0,>=2.3.0->docling) (1.0.1)\n",
      "Requirement already satisfied: XlsxWriter>=0.5.7 in /usr/local/python/3.12.1/lib/python3.12/site-packages (from python-pptx<2.0.0,>=1.0.2->docling) (3.2.0)\n",
      "Requirement already satisfied: charset-normalizer<4,>=2 in /usr/local/python/3.12.1/lib/python3.12/site-packages (from requests<3.0.0,>=2.32.3->docling) (3.4.0)\n",
      "Requirement already satisfied: idna<4,>=2.5 in /usr/local/python/3.12.1/lib/python3.12/site-packages (from requests<3.0.0,>=2.32.3->docling) (3.10)\n",
      "Requirement already satisfied: urllib3<3,>=1.21.1 in /usr/local/python/3.12.1/lib/python3.12/site-packages (from requests<3.0.0,>=2.32.3->docling) (2.2.3)\n",
      "Requirement already satisfied: click>=8.0.0 in /usr/local/python/3.12.1/lib/python3.12/site-packages (from typer<0.13.0,>=0.12.5->docling) (8.1.7)\n",
      "Requirement already satisfied: shellingham>=1.3.0 in /usr/local/python/3.12.1/lib/python3.12/site-packages (from typer<0.13.0,>=0.12.5->docling) (1.5.4)\n",
      "Requirement already satisfied: rich>=10.11.0 in /usr/local/python/3.12.1/lib/python3.12/site-packages (from typer<0.13.0,>=0.12.5->docling) (13.9.4)\n",
      "Requirement already satisfied: pyflakes>=3.0.0 in /usr/local/python/3.12.1/lib/python3.12/site-packages (from autoflake<3.0.0,>=2.3.1->docling-parse<4.0.0,>=3.0.0->docling) (3.2.0)\n",
      "Requirement already satisfied: attrs>=19.2.0 in /usr/local/python/3.12.1/lib/python3.12/site-packages (from jsonlines<4.0.0,>=3.1.0->docling-ibm-models<3.0.0,>=2.0.6->docling) (24.2.0)\n",
      "Requirement already satisfied: jsonschema-specifications>=2023.03.6 in /home/codespace/.local/lib/python3.12/site-packages (from jsonschema<5.0.0,>=4.16.0->docling-core<3.0.0,>=2.9.0->docling-core[chunking]<3.0.0,>=2.9.0->docling) (2023.12.1)\n",
      "Requirement already satisfied: referencing>=0.28.4 in /home/codespace/.local/lib/python3.12/site-packages (from jsonschema<5.0.0,>=4.16.0->docling-core<3.0.0,>=2.9.0->docling-core[chunking]<3.0.0,>=2.9.0->docling) (0.35.1)\n",
      "Requirement already satisfied: rpds-py>=0.7.1 in /home/codespace/.local/lib/python3.12/site-packages (from jsonschema<5.0.0,>=4.16.0->docling-core<3.0.0,>=2.9.0->docling-core[chunking]<3.0.0,>=2.9.0->docling) (0.20.0)\n",
      "Requirement already satisfied: six>=1.5 in /usr/local/python/3.12.1/lib/python3.12/site-packages (from python-dateutil>=2.8.2->pandas<3.0.0,>=2.1.4->docling) (1.17.0)\n",
      "Requirement already satisfied: markdown-it-py>=2.2.0 in /usr/local/python/3.12.1/lib/python3.12/site-packages (from rich>=10.11.0->typer<0.13.0,>=0.12.5->docling) (3.0.0)\n",
      "Requirement already satisfied: pygments<3.0.0,>=2.13.0 in /usr/local/python/3.12.1/lib/python3.12/site-packages (from rich>=10.11.0->typer<0.13.0,>=0.12.5->docling) (2.18.0)\n",
      "Requirement already satisfied: mpire[dill] in /usr/local/python/3.12.1/lib/python3.12/site-packages (from semchunk<3.0.0,>=2.2.0->docling-core[chunking]<3.0.0,>=2.9.0->docling) (2.10.2)\n",
      "Requirement already satisfied: networkx in /usr/local/python/3.12.1/lib/python3.12/site-packages (from torch<3.0.0,>=2.2.2->docling-ibm-models<3.0.0,>=2.0.6->docling) (3.4.2)\n",
      "Requirement already satisfied: jinja2 in /usr/local/python/3.12.1/lib/python3.12/site-packages (from torch<3.0.0,>=2.2.2->docling-ibm-models<3.0.0,>=2.0.6->docling) (3.0.0)\n",
      "Requirement already satisfied: nvidia-cuda-nvrtc-cu12==12.4.127 in /usr/local/python/3.12.1/lib/python3.12/site-packages (from torch<3.0.0,>=2.2.2->docling-ibm-models<3.0.0,>=2.0.6->docling) (12.4.127)\n",
      "Requirement already satisfied: nvidia-cuda-runtime-cu12==12.4.127 in /usr/local/python/3.12.1/lib/python3.12/site-packages (from torch<3.0.0,>=2.2.2->docling-ibm-models<3.0.0,>=2.0.6->docling) (12.4.127)\n",
      "Requirement already satisfied: nvidia-cuda-cupti-cu12==12.4.127 in /usr/local/python/3.12.1/lib/python3.12/site-packages (from torch<3.0.0,>=2.2.2->docling-ibm-models<3.0.0,>=2.0.6->docling) (12.4.127)\n",
      "Requirement already satisfied: nvidia-cudnn-cu12==9.1.0.70 in /usr/local/python/3.12.1/lib/python3.12/site-packages (from torch<3.0.0,>=2.2.2->docling-ibm-models<3.0.0,>=2.0.6->docling) (9.1.0.70)\n",
      "Requirement already satisfied: nvidia-cublas-cu12==12.4.5.8 in /usr/local/python/3.12.1/lib/python3.12/site-packages (from torch<3.0.0,>=2.2.2->docling-ibm-models<3.0.0,>=2.0.6->docling) (12.4.5.8)\n",
      "Requirement already satisfied: nvidia-cufft-cu12==11.2.1.3 in /usr/local/python/3.12.1/lib/python3.12/site-packages (from torch<3.0.0,>=2.2.2->docling-ibm-models<3.0.0,>=2.0.6->docling) (11.2.1.3)\n",
      "Requirement already satisfied: nvidia-curand-cu12==10.3.5.147 in /usr/local/python/3.12.1/lib/python3.12/site-packages (from torch<3.0.0,>=2.2.2->docling-ibm-models<3.0.0,>=2.0.6->docling) (10.3.5.147)\n",
      "Requirement already satisfied: nvidia-cusolver-cu12==11.6.1.9 in /usr/local/python/3.12.1/lib/python3.12/site-packages (from torch<3.0.0,>=2.2.2->docling-ibm-models<3.0.0,>=2.0.6->docling) (11.6.1.9)\n",
      "Requirement already satisfied: nvidia-cusparse-cu12==12.3.1.170 in /usr/local/python/3.12.1/lib/python3.12/site-packages (from torch<3.0.0,>=2.2.2->docling-ibm-models<3.0.0,>=2.0.6->docling) (12.3.1.170)\n",
      "Requirement already satisfied: nvidia-nccl-cu12==2.21.5 in /usr/local/python/3.12.1/lib/python3.12/site-packages (from torch<3.0.0,>=2.2.2->docling-ibm-models<3.0.0,>=2.0.6->docling) (2.21.5)\n",
      "Requirement already satisfied: nvidia-nvtx-cu12==12.4.127 in /usr/local/python/3.12.1/lib/python3.12/site-packages (from torch<3.0.0,>=2.2.2->docling-ibm-models<3.0.0,>=2.0.6->docling) (12.4.127)\n",
      "Requirement already satisfied: nvidia-nvjitlink-cu12==12.4.127 in /usr/local/python/3.12.1/lib/python3.12/site-packages (from torch<3.0.0,>=2.2.2->docling-ibm-models<3.0.0,>=2.0.6->docling) (12.4.127)\n",
      "Requirement already satisfied: triton==3.1.0 in /usr/local/python/3.12.1/lib/python3.12/site-packages (from torch<3.0.0,>=2.2.2->docling-ibm-models<3.0.0,>=2.0.6->docling) (3.1.0)\n",
      "Requirement already satisfied: setuptools in /home/codespace/.local/lib/python3.12/site-packages (from torch<3.0.0,>=2.2.2->docling-ibm-models<3.0.0,>=2.0.6->docling) (75.1.0)\n",
      "Requirement already satisfied: sympy==1.13.1 in /usr/local/python/3.12.1/lib/python3.12/site-packages (from torch<3.0.0,>=2.2.2->docling-ibm-models<3.0.0,>=2.0.6->docling) (1.13.1)\n",
      "Requirement already satisfied: mpmath<1.4,>=1.1.0 in /usr/local/python/3.12.1/lib/python3.12/site-packages (from sympy==1.13.1->torch<3.0.0,>=2.2.2->docling-ibm-models<3.0.0,>=2.0.6->docling) (1.3.0)\n",
      "Requirement already satisfied: regex!=2019.12.17 in /usr/local/python/3.12.1/lib/python3.12/site-packages (from transformers<5.0.0,>=4.34.0->docling-core[chunking]<3.0.0,>=2.9.0->docling) (2024.11.6)\n",
      "Requirement already satisfied: tokenizers<0.22,>=0.21 in /usr/local/python/3.12.1/lib/python3.12/site-packages (from transformers<5.0.0,>=4.34.0->docling-core[chunking]<3.0.0,>=2.9.0->docling) (0.21.0)\n",
      "Requirement already satisfied: safetensors>=0.4.1 in /usr/local/python/3.12.1/lib/python3.12/site-packages (from transformers<5.0.0,>=4.34.0->docling-core[chunking]<3.0.0,>=2.9.0->docling) (0.4.5)\n",
      "Requirement already satisfied: imageio>=2.33 in /usr/local/python/3.12.1/lib/python3.12/site-packages (from scikit-image->easyocr<2.0,>=1.7->docling) (2.36.1)\n",
      "Requirement already satisfied: tifffile>=2022.8.12 in /usr/local/python/3.12.1/lib/python3.12/site-packages (from scikit-image->easyocr<2.0,>=1.7->docling) (2024.9.20)\n",
      "Requirement already satisfied: lazy-loader>=0.4 in /usr/local/python/3.12.1/lib/python3.12/site-packages (from scikit-image->easyocr<2.0,>=1.7->docling) (0.4)\n",
      "Requirement already satisfied: mdurl~=0.1 in /usr/local/python/3.12.1/lib/python3.12/site-packages (from markdown-it-py>=2.2.0->rich>=10.11.0->typer<0.13.0,>=0.12.5->docling) (0.1.2)\n",
      "Requirement already satisfied: MarkupSafe>=2.0.0rc2 in /home/codespace/.local/lib/python3.12/site-packages (from jinja2->torch<3.0.0,>=2.2.2->docling-ibm-models<3.0.0,>=2.0.6->docling) (2.1.5)\n",
      "Requirement already satisfied: multiprocess>=0.70.15 in /usr/local/python/3.12.1/lib/python3.12/site-packages (from mpire[dill]->semchunk<3.0.0,>=2.2.0->docling-core[chunking]<3.0.0,>=2.9.0->docling) (0.70.17)\n",
      "Requirement already satisfied: dill>=0.3.9 in /usr/local/python/3.12.1/lib/python3.12/site-packages (from multiprocess>=0.70.15->mpire[dill]->semchunk<3.0.0,>=2.2.0->docling-core[chunking]<3.0.0,>=2.9.0->docling) (0.3.9)\n",
      "\n",
      "\u001b[1m[\u001b[0m\u001b[34;49mnotice\u001b[0m\u001b[1;39;49m]\u001b[0m\u001b[39;49m A new release of pip is available: \u001b[0m\u001b[31;49m24.2\u001b[0m\u001b[39;49m -> \u001b[0m\u001b[32;49m24.3.1\u001b[0m\n",
      "\u001b[1m[\u001b[0m\u001b[34;49mnotice\u001b[0m\u001b[1;39;49m]\u001b[0m\u001b[39;49m To update, run: \u001b[0m\u001b[32;49mpython3 -m pip install --upgrade pip\u001b[0m\n"
     ]
    }
   ],
   "source": [
    "!pip install docling"
   ]
  },
  {
   "cell_type": "code",
   "execution_count": 1,
   "metadata": {},
   "outputs": [],
   "source": [
    "# importing required modules\n",
    "from docling.document_converter import DocumentConverter\n",
    "import os"
   ]
  },
  {
   "cell_type": "code",
   "execution_count": null,
   "metadata": {},
   "outputs": [
    {
     "ename": "",
     "evalue": "",
     "output_type": "error",
     "traceback": [
      "\u001b[1;31mThe Kernel crashed while executing code in the current cell or a previous cell. \n",
      "\u001b[1;31mPlease review the code in the cell(s) to identify a possible cause of the failure. \n",
      "\u001b[1;31mClick <a href='https://aka.ms/vscodeJupyterKernelCrash'>here</a> for more info. \n",
      "\u001b[1;31mView Jupyter <a href='command:jupyter.viewOutput'>log</a> for further details."
     ]
    }
   ],
   "source": [
    "# path to the folder\n",
    "folder_path='data/'\n",
    "\n",
    "# instance for document converter\n",
    "converter = DocumentConverter()"
   ]
  },
  {
   "cell_type": "code",
   "execution_count": null,
   "metadata": {},
   "outputs": [],
   "source": [
    "# iterating over the files in the folder\n",
    "for file_name in os.listdir(folder_path):\n",
    "    file_path = os.path.join(folder_path,file_name)\n",
    "    if file_name.endswith('.pdf'):\n",
    "        print(f'Processing {file_name}....')\n",
    "        result = converter.convert(file_path)\n",
    "        # exporting to md\n",
    "        md_content = result.document.export_to_markdown()\n",
    "        print(md_content)\n",
    "        output_file=os.path.join(folder_path,f'{os.patj.splitext(file_name)[0]}.md')\n",
    "        with open(output_file,'w',encoding='utf-8') as f:\n",
    "            f.write(md_content)\n"
   ]
  },
  {
   "cell_type": "code",
   "execution_count": 2,
   "metadata": {},
   "outputs": [
    {
     "name": "stderr",
     "output_type": "stream",
     "text": [
      "Neither CUDA nor MPS are available - defaulting to CPU. Note: This module is much faster with a GPU.\n",
      "WARNING: content stream objects stream 105 0 (content, offset 5176): parse error while reading object\n",
      "WARNING: content stream objects stream 106 0 (content, offset 28): treating unexpected array close token as null\n",
      "WARNING: content stream objects stream 106 0, content at offset 1: operation for array attempted on object of type string: treating as empty\n"
     ]
    },
    {
     "ename": "",
     "evalue": "",
     "output_type": "error",
     "traceback": [
      "\u001b[1;31mThe Kernel crashed while executing code in the current cell or a previous cell. \n",
      "\u001b[1;31mPlease review the code in the cell(s) to identify a possible cause of the failure. \n",
      "\u001b[1;31mClick <a href='https://aka.ms/vscodeJupyterKernelCrash'>here</a> for more info. \n",
      "\u001b[1;31mView Jupyter <a href='command:jupyter.viewOutput'>log</a> for further details."
     ]
    }
   ],
   "source": [
    "# source\n",
    "source: str = '/workspaces/Implementing-RAG/data/Cigna.pdf'\n",
    "converter = DocumentConverter()\n",
    "result = converter.convert(source)\n",
    "markdown_content = result.document.export_to_markdown()\n",
    "\n",
    "directory, file_name = os.path.split(source)\n",
    "base_name, _ = os.path.splitext(file_name)\n",
    "output_folder = '/workspaces/Implementing-RAG/extracted_data'\n",
    "# os.makedirs(output_folder)\n",
    "output_file = os.path.join(output_folder,f\"{base_name}.md\")\n",
    "with open(output_file, 'w', encoding='utf-8') as f:\n",
    "    f.write(markdown_content)\n",
    "print(f\"Markdown saved to: {output_file}\")"
   ]
  }
 ],
 "metadata": {
  "kernelspec": {
   "display_name": "Python 3",
   "language": "python",
   "name": "python3"
  },
  "language_info": {
   "codemirror_mode": {
    "name": "ipython",
    "version": 3
   },
   "file_extension": ".py",
   "mimetype": "text/x-python",
   "name": "python",
   "nbconvert_exporter": "python",
   "pygments_lexer": "ipython3",
   "version": "3.12.1"
  }
 },
 "nbformat": 4,
 "nbformat_minor": 2
}
