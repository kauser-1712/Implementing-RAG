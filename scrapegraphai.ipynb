{
 "cells": [
  {
   "cell_type": "code",
   "execution_count": null,
   "metadata": {},
   "outputs": [],
   "source": [
    "!pip install scrapegraphai\n",
    "!apt install chromium-chromedriver\n",
    "!pip install nest_asyncio\n",
    "!pip install playwright\n",
    "!playwright install"
   ]
  },
  {
   "cell_type": "code",
   "execution_count": 2,
   "metadata": {},
   "outputs": [],
   "source": [
    "import nest_asyncio\n",
    "nest_asyncio.apply()"
   ]
  },
  {
   "cell_type": "code",
   "execution_count": 4,
   "metadata": {},
   "outputs": [],
   "source": [
    "from scrapegraphai.graphs import SmartScraperGraph"
   ]
  },
  {
   "cell_type": "code",
   "execution_count": 6,
   "metadata": {},
   "outputs": [],
   "source": [
    "from dotenv import load_dotenv\n",
    "import os\n",
    "load_dotenv()\n",
    "# getting the openai key\n",
    "openai_api_key = os.getenv(\"OPENAI_API_KEY\")"
   ]
  },
  {
   "cell_type": "code",
   "execution_count": 12,
   "metadata": {},
   "outputs": [],
   "source": [
    "graph_config = {\n",
    "    \"llm\" : {\n",
    "        \"api_key\": openai_api_key,\n",
    "        \"model\": \"openai/gpt-4o-mini\",\n",
    "        \"temperature\":0,\n",
    "    },\n",
    "    \"verbose\": True,\n",
    "    \"headless\": True,\n",
    "}"
   ]
  },
  {
   "cell_type": "code",
   "execution_count": 19,
   "metadata": {},
   "outputs": [],
   "source": [
    "smart_scraper_graph = SmartScraperGraph(\n",
    "    prompt=\"Get all the bill details including the bill number, filed by and bill description. Get it from all the pages\",\n",
    "    source=\"https://malegislature.gov/Bills/Search\",\n",
    "    config=graph_config\n",
    ")"
   ]
  },
  {
   "cell_type": "code",
   "execution_count": 20,
   "metadata": {},
   "outputs": [
    {
     "name": "stderr",
     "output_type": "stream",
     "text": [
      "--- Executing Fetch Node ---\n",
      "--- (Fetching HTML from: https://malegislature.gov/Bills/Search) ---\n",
      "--- Executing ParseNode Node ---\n",
      "--- Executing GenerateAnswer Node ---\n"
     ]
    }
   ],
   "source": [
    "result = smart_scraper_graph.run()"
   ]
  },
  {
   "cell_type": "code",
   "execution_count": 21,
   "metadata": {},
   "outputs": [
    {
     "name": "stdout",
     "output_type": "stream",
     "text": [
      "{\n",
      "  \"bills\": [\n",
      "    {\n",
      "      \"bill_number\": \"S.99\",\n",
      "      \"filed_by\": \"Tarr, Bruce E.\",\n",
      "      \"description\": \"An Act to provide for loans for waterfront development\"\n",
      "    },\n",
      "    {\n",
      "      \"bill_number\": \"H.1557\",\n",
      "      \"filed_by\": \"O'Flaherty, Eugene L.\",\n",
      "      \"description\": \"An Act relative to personal injury litigation.\"\n",
      "    },\n",
      "    {\n",
      "      \"bill_number\": \"H.1558\",\n",
      "      \"filed_by\": \"O'Flaherty, Eugene L.\",\n",
      "      \"description\": \"An Act granting discretion to the superior court to allocate certain settlement proceeds.\"\n",
      "    },\n",
      "    {\n",
      "      \"bill_number\": \"H.1559\",\n",
      "      \"filed_by\": \"O'Flaherty, Eugene L.\",\n",
      "      \"description\": \"An Act providing for the equitable apportionment of certain liens.\"\n",
      "    },\n",
      "    {\n",
      "      \"bill_number\": \"H.1560\",\n",
      "      \"filed_by\": \"O'Flaherty, Eugene L.\",\n",
      "      \"description\": \"An Act to prohibit the use of certain liability waivers as against public policy.\"\n",
      "    },\n",
      "    {\n",
      "      \"bill_number\": \"H.1561\",\n",
      "      \"filed_by\": \"O'Flaherty, Eugene L.\",\n",
      "      \"description\": \"An Act relative to attorney client privilege and attorney work product materials.\"\n",
      "    },\n",
      "    {\n",
      "      \"bill_number\": \"H.1562\",\n",
      "      \"filed_by\": \"O'Flaherty, Eugene L.\",\n",
      "      \"description\": \"An Act improving spousal elective share.\"\n",
      "    },\n",
      "    {\n",
      "      \"bill_number\": \"H.1563\",\n",
      "      \"filed_by\": \"O'Flaherty, Eugene L.\",\n",
      "      \"description\": \"An Act relative to equitable divorce proceedings.\"\n",
      "    },\n",
      "    {\n",
      "      \"bill_number\": \"H.1564\",\n",
      "      \"filed_by\": \"O'Flaherty, Eugene L.\",\n",
      "      \"description\": \"An Act relating to the payment of interest on pecuniary legacies and pecuniary distributions under a trust instrument.\"\n",
      "    },\n",
      "    {\n",
      "      \"bill_number\": \"H.1565\",\n",
      "      \"filed_by\": \"O'Flaherty, Eugene L.\",\n",
      "      \"description\": \"An Act relative to the examination of jurors.\"\n",
      "    },\n",
      "    {\n",
      "      \"bill_number\": \"H.1566\",\n",
      "      \"filed_by\": \"O'Flaherty, Eugene L.\",\n",
      "      \"description\": \"An Act to provide landowner's title protection.\"\n",
      "    },\n",
      "    {\n",
      "      \"bill_number\": \"H.1567\",\n",
      "      \"filed_by\": \"O'Flaherty, Eugene L.\",\n",
      "      \"description\": \"An Act relative to notice of contract, dissolution of lien.\"\n",
      "    },\n",
      "    {\n",
      "      \"bill_number\": \"H.1568\",\n",
      "      \"filed_by\": \"O'Flaherty, Eugene L.\",\n",
      "      \"description\": \"An Act to legitimize structures after six or ten years of continuous use.\"\n",
      "    },\n",
      "    {\n",
      "      \"bill_number\": \"H.1569\",\n",
      "      \"filed_by\": \"O'Flaherty, Eugene L.\",\n",
      "      \"description\": \"An Act relative to attorney's lien for fees.\"\n",
      "    },\n",
      "    {\n",
      "      \"bill_number\": \"H.1570\",\n",
      "      \"filed_by\": \"O'Flaherty, Eugene L.\",\n",
      "      \"description\": \"An Act relative to parent child privilege.\"\n",
      "    },\n",
      "    {\n",
      "      \"bill_number\": \"H.1571\",\n",
      "      \"filed_by\": \"O'Flaherty, Eugene L.\",\n",
      "      \"description\": \"An Act establishing the correctional officers' procedural bill of rights.\"\n",
      "    },\n",
      "    {\n",
      "      \"bill_number\": \"H.1572\",\n",
      "      \"filed_by\": \"O'Flaherty, Eugene L.\",\n",
      "      \"description\": \"An Act granting discretion to the superior court to allocate certain settlement proceeds.\"\n",
      "    },\n",
      "    {\n",
      "      \"bill_number\": \"H.1573\",\n",
      "      \"filed_by\": \"O'Flaherty, Eugene L.\",\n",
      "      \"description\": \"An Act relative to the liability of certain non profit corporations.\"\n",
      "    },\n",
      "    {\n",
      "      \"bill_number\": \"H.1574\",\n",
      "      \"filed_by\": \"O'Flaherty, Eugene L.\",\n",
      "      \"description\": \"An Act relative to the removal statute.\"\n",
      "    },\n",
      "    {\n",
      "      \"bill_number\": \"H.1575\",\n",
      "      \"filed_by\": \"O'Flaherty, Eugene L.\",\n",
      "      \"description\": \"An Act relative to the durable power of attorney act.\"\n",
      "    },\n",
      "    {\n",
      "      \"bill_number\": \"H.1576\",\n",
      "      \"filed_by\": \"O'Flaherty, Eugene L.\",\n",
      "      \"description\": \"An Act relative to establishing paternity.\"\n",
      "    },\n",
      "    {\n",
      "      \"bill_number\": \"H.1577\",\n",
      "      \"filed_by\": \"O'Flaherty, Eugene L.\",\n",
      "      \"description\": \"An Act allowing a court to appoint counsel before imposition of a jail sentence.\"\n",
      "    },\n",
      "    {\n",
      "      \"bill_number\": \"H.1578\",\n",
      "      \"filed_by\": \"O'Flaherty, Eugene L.\",\n",
      "      \"description\": \"An Act relative to the uniform child custody jurisdiction and enforcement act.\"\n",
      "    },\n",
      "    {\n",
      "      \"bill_number\": \"H.1579\",\n",
      "      \"filed_by\": \"O'Flaherty, Eugene L.\",\n",
      "      \"description\": \"An Act relative to loan forgiveness.\"\n",
      "    },\n",
      "    {\n",
      "      \"bill_number\": \"H.1580\",\n",
      "      \"filed_by\": \"O'Flaherty, Eugene L.\",\n",
      "      \"description\": \"An Act relative to prisoner re-entry.\"\n",
      "    }\n",
      "  ]\n",
      "}\n"
     ]
    }
   ],
   "source": [
    "import json\n",
    "output = json.dumps(result, indent=2)\n",
    "line_list = output.split(\"\\n\")  \n",
    "for line in line_list:\n",
    "    print(line)"
   ]
  }
 ],
 "metadata": {
  "kernelspec": {
   "display_name": "Python 3",
   "language": "python",
   "name": "python3"
  },
  "language_info": {
   "codemirror_mode": {
    "name": "ipython",
    "version": 3
   },
   "file_extension": ".py",
   "mimetype": "text/x-python",
   "name": "python",
   "nbconvert_exporter": "python",
   "pygments_lexer": "ipython3",
   "version": "3.12.1"
  }
 },
 "nbformat": 4,
 "nbformat_minor": 2
}
