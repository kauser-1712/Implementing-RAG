{
 "cells": [
  {
   "cell_type": "markdown",
   "metadata": {},
   "source": [
    "# Evaluating RAG with RAGAs"
   ]
  },
  {
   "cell_type": "code",
   "execution_count": 1,
   "metadata": {},
   "outputs": [],
   "source": [
    "from langchain.chains import RetrievalQA\n",
    "from langchain_community.vectorstores import FAISS\n",
    "from langchain.schema import Document\n",
    "from langchain_openai.embeddings import OpenAIEmbeddings\n",
    "from langchain_openai.chat_models import ChatOpenAI\n",
    "from docling.chunking import HybridChunker\n",
    "from docling.document_converter import DocumentConverter\n",
    "from transformers import AutoTokenizer\n",
    "import os\n"
   ]
  },
  {
   "cell_type": "code",
   "execution_count": 2,
   "metadata": {},
   "outputs": [],
   "source": [
    "file_path = '/workspaces/Implementing-RAG/extracted_data/Guardian Vision Insurance.md'\n",
    "converter = DocumentConverter()\n",
    "docling_doc = converter.convert(source=file_path).document\n",
    "   "
   ]
  },
  {
   "cell_type": "code",
   "execution_count": 6,
   "metadata": {},
   "outputs": [],
   "source": [
    "def chunk_document(docling_doc, embed_model_id=\"sentence-transformers/all-MiniLM-L6-v2\", max_tokens=1000):\n",
    "    # Initialize the tokenizer and HybridChunker\n",
    "    tokenizer = AutoTokenizer.from_pretrained(embed_model_id)\n",
    "    chunker = HybridChunker(tokenizer=tokenizer, max_tokens=max_tokens)\n",
    "    \n",
    "    # Chunk the single document\n",
    "    chunked_docs = []\n",
    "    chunks = list(chunker.chunk(dl_doc=docling_doc))\n",
    "    for i, chunk in enumerate(chunks):\n",
    "        chunked_docs.append(Document(\n",
    "            page_content=chunk.text,\n",
    "           metadata={\n",
    "            \"chunk_id\": i,\n",
    "            \"source_file\": file_path,\n",
    "            \"token_count\": len(tokenizer(chunk.text)[\"input_ids\"])}\n",
    "        ))\n",
    "    return chunked_docs"
   ]
  },
  {
   "cell_type": "code",
   "execution_count": 7,
   "metadata": {},
   "outputs": [
    {
     "name": "stderr",
     "output_type": "stream",
     "text": [
      "Token indices sequence length is longer than the specified maximum sequence length for this model (617 > 512). Running this sequence through the model will result in indexing errors\n"
     ]
    },
    {
     "name": "stdout",
     "output_type": "stream",
     "text": [
      "Chunk Content: For just a few dollars a month, this coverage saves you money on optical wellness, as well as providing discounts on eyewear, contacts, and corrective vision services\n",
      "· Extensive network of vision specialists and medical professionals\n",
      "· Affordable coverage\n",
      "· Quick and easy claim payments\n",
      "Metadata: {'chunk_id': 0, 'source_file': '/workspaces/Implementing-RAG/extracted_data/Guardian Vision Insurance.md', 'token_count': 54}\n",
      "--------------------------------------------------\n",
      "Chunk Content: Option 1: Significant out-of-pocket savings available with your Full Feature plan by visiting one of VSP's network locations, including one of the largest private practice provider networks, Visionworks and contracted Pearle Vision locations.\n",
      "Your Vision Plan, 1 = VSP Vision Premier. Your Vision Plan, 2 = VSP Vision Premier. Your Network is, 1 = VSP Network Signature Plan. Your Network is, 2 = . Copay, 1 = . Copay, 2 = . Exams Copay, 1 = $ 10. Exams Copay, 2 = . Materials Copay (waived for elective contact lenses), 1 = $ 25. Materials Copay (waived for elective contact lenses), 2 = . Sample of Covered Services, 1 = You pay (after copay if applicable):. Sample of Covered Services, 2 = You pay (after copay if applicable):. , 1 = In-network. , 2 = Out-of-network. Eye Exams, 1 = $0. Eye Exams, 2 = Amount over $50. Single Vision Lenses, 1 = $0. Single Vision Lenses, 2 = Amount over $48. Lined Bifocal Lenses, 1 = $0. Lined Bifocal Lenses, 2 = Amount over $67. Lined Trifocal Lenses, 1 = $0. Lined Trifocal Lenses, 2 = Amount over $86. Lenticular Lenses, 1 = $0. Lenticular Lenses, 2 = Amount over $126. Frames, 1 = 80% of amount over $180¹. Frames, 2 = Amount over $48. Costco Frame Allowance, 1 = Amount over $100. Costco Frame Allowance, 2 = . Contact Lenses (Elective), 1 = Amount over $180. Contact Lenses (Elective), 2 = Amount over $130. Contact Lenses (Medically Necessary), 1 = $0. Contact Lenses (Medically Necessary), 2 = Amount over $210. Contact Lenses (Evaluation and fitting), 1 = 15% off UCR. Contact Lenses (Evaluation and fitting), 2 = No discounts. , 1 = 20% off retail price^. , 2 = . Glasses (Additional pair of frames and lenses) Laser Correction Surgery Discount, 1 = Up to 15% off the usual charge or 5%. Glasses (Additional pair of frames and lenses) Laser Correction Surgery Discount, 2 = No discounts No discounts. , 1 = off promotional price. , 2 = off promotional price. Service Frequencies, 1 = . Service Frequencies, 2 = . Exams, 1 = Every calendar year. Exams, 2 = . Lenses (for glasses or contact lenses) ‡‡, 1 = Every calendar year. Lenses (for glasses or contact lenses) ‡‡, 2 = . Frames, 1 = Every calendar year. Frames, 2 = . Network discounts (glasses and contact lens professional service), 1 = Limitless within 12 months of exam.. Network discounts (glasses and contact lens professional service), 2 = . Dependent Age Limits, 1 = 26. Dependent Age Limits, 2 = . To Find a Provider:, 1 = Register at VSP.com to find a participating provider.. To Find a Provider:, 2 = \n",
      "Metadata: {'chunk_id': 1, 'source_file': '/workspaces/Implementing-RAG/extracted_data/Guardian Vision Insurance.md', 'token_count': 665}\n",
      "--------------------------------------------------\n",
      "Chunk Content: · ‡‡Benefit includes coverage for glasses or contact lenses, not both.\n",
      "· ^ For the discount to apply your purchase must be made within 12 months of the eye exam. In addition Full-Feature plans offer 30% off additional prescription glasses and nonprescription sunglasses, including lens options, if purchased on the same day as the eye exam from the same VSP doctor who provided the exam.\n",
      "· Charges for an initial purchase can be used toward the material allowance. Any unused balance remaining after the initial purchase cannot be banked for future use. The only exception would be if a member purchases contact lenses from an out of network provider, members can use the balance towards additional contact lenses within the same benefit period.\n",
      "VISION PLAN C 180 Benefit Summary\n",
      "· 1 Extra $20 on select brands\n",
      "· Members can use their in network benefits on line at Eyeconic.com.\n",
      "This document is a summary of the major features of the referenced insurance coverage.  It is intended for illustrative purposes only and does not constitute a contract. The insurance plan documents, including the policy and certificate, comprise the contract for coverage. The full plan description, including the benefits and all terms, limitations and exclusions that apply will be contained in your insurance certificate. The plan documents are the final arbiter of coverage.  Coverage terms may vary by state and actual sold plan. The premium amounts reflected in this summary are an approximation; if there is a discrepancy between this amount and the premium actually billed, the latter prevails.\n",
      "Metadata: {'chunk_id': 2, 'source_file': '/workspaces/Implementing-RAG/extracted_data/Guardian Vision Insurance.md', 'token_count': 307}\n",
      "--------------------------------------------------\n",
      "Chunk Content: Go to www.GuardianAnytime.com to access secure information about your Guardian benefits including access to an image of your ID Card. Your on-line account will be set up within 30 days after your plan effective date.\n",
      "Metadata: {'chunk_id': 3, 'source_file': '/workspaces/Implementing-RAG/extracted_data/Guardian Vision Insurance.md', 'token_count': 47}\n",
      "--------------------------------------------------\n",
      "Chunk Content: Important Information: This policy provides vision care limited benefits health insurance only. It does not provide basic hospital, basic medical or major medical insurance as defined by the New York State Insurance Department. Coverage is limited to those charges that are necessary for a routine vision examination. Co-pays apply. The plan does not pay for: orthoptics or vision training and any associated supplemental testing; medical or surgical treatment of the eye; and eye examination or corrective eyewear required by an employer as a condition of employment; replacement of lenses and frames that are furnished under this plan, which are lost or broken (except at normal intervals when services are otherwise available or a warranty exists). The plan limits benefits for blended lenses, oversized lenses, photochromic lenses, tinted lenses, progressive multifocal lenses, coated or laminated lenses, a frame that exceeds plan allowance, cosmetic lenses; U-V protected lenses and optional cosmetic processes.\n",
      "The services, exclusions and limitations listed above do not constitute a contract and are a summary only. The Guardian plan documents are the final arbiter of coverage. Contract #GP-1-VSN-96-VIS et al.\n",
      "Metadata: {'chunk_id': 4, 'source_file': '/workspaces/Implementing-RAG/extracted_data/Guardian Vision Insurance.md', 'token_count': 239}\n",
      "--------------------------------------------------\n",
      "Chunk Content: Discounts on average of 10-20% off usual and customary charge or 5% off promotional price for vision laser Surgery. Members out-of-pocket costs are limited to $1,800 per eye for LASIK or $1,500 per eye for PRK or $2300 per eye for Custom LASIK, Custom PRK, or Bladeless LASIK.\n",
      "Laser surgery is not an insured benefit. The surgery is available at a discounted fee. The covered person must pay the entire discounted fee. In addition, the laser surgery discount may not be available in all states.\n",
      "Metadata: {'chunk_id': 5, 'source_file': '/workspaces/Implementing-RAG/extracted_data/Guardian Vision Insurance.md', 'token_count': 122}\n",
      "--------------------------------------------------\n"
     ]
    }
   ],
   "source": [
    "embed_model_id = \"sentence-transformers/all-MiniLM-L6-v2\"\n",
    "\n",
    "# Chunk the document\n",
    "chunked_documents = chunk_document(docling_doc, embed_model_id)\n",
    "\n",
    "# Print the chunks for debugging (optional)\n",
    "for doc in chunked_documents:\n",
    "    print(\"Chunk Content:\", doc.page_content)\n",
    "    print(\"Metadata:\", doc.metadata)\n",
    "    print(\"-\" * 50)\n",
    "    "
   ]
  },
  {
   "cell_type": "code",
   "execution_count": 10,
   "metadata": {},
   "outputs": [
    {
     "name": "stdout",
     "output_type": "stream",
     "text": [
      "[Document(metadata={}, page_content='For just a few dollars a month, this coverage saves you money on optical wellness, as well as providing discounts on eyewear, contacts, and corrective vision services\\n· Extensive network of vision specialists and medical professionals\\n· Affordable coverage\\n· Quick and easy claim payments'), Document(metadata={}, page_content=\"Option 1: Significant out-of-pocket savings available with your Full Feature plan by visiting one of VSP's network locations, including one of the largest private practice provider networks, Visionworks and contracted Pearle Vision locations.\\nYour Vision Plan, 1 = VSP Vision Premier. Your Vision Plan, 2 = VSP Vision Premier. Your Network is, 1 = VSP Network Signature Plan. Your Network is, 2 = . Copay, 1 = . Copay, 2 = . Exams Copay, 1 = $ 10. Exams Copay, 2 = . Materials Copay (waived for elective contact lenses), 1 = $ 25. Materials Copay (waived for elective contact lenses), 2 = . Sample of Covered Services, 1 = You pay (after copay if applicable):. Sample of Covered Services, 2 = You pay (after copay if applicable):. , 1 = In-network. , 2 = Out-of-network. Eye Exams, 1 = $0. Eye Exams, 2 = Amount over $50. Single Vision Lenses, 1 = $0. Single Vision Lenses, 2 = Amount over $48. Lined Bifocal Lenses, 1 = $0. Lined Bifocal Lenses, 2 = Amount over $67. Lined Trifocal Lenses, 1 = $0. Lined Trifocal Lenses, 2 = Amount over $86. Lenticular Lenses, 1 = $0. Lenticular Lenses, 2 = Amount over $126. Frames, 1 = 80% of amount over $180¹. Frames, 2 = Amount over $48. Costco Frame Allowance, 1 = Amount over $100. Costco Frame Allowance, 2 = . Contact Lenses (Elective), 1 = Amount over $180. Contact Lenses (Elective), 2 = Amount over $130. Contact Lenses (Medically Necessary), 1 = $0. Contact Lenses (Medically Necessary), 2 = Amount over $210. Contact Lenses (Evaluation and fitting), 1 = 15% off UCR. Contact Lenses (Evaluation and fitting), 2 = No discounts. , 1 = 20% off retail price^. , 2 = . Glasses (Additional pair of frames and lenses) Laser Correction Surgery Discount, 1 = Up to 15% off the usual charge or 5%. Glasses (Additional pair of frames and lenses) Laser Correction Surgery Discount, 2 = No discounts No discounts. , 1 = off promotional price. , 2 = off promotional price. Service Frequencies, 1 = . Service Frequencies, 2 = . Exams, 1 = Every calendar year. Exams, 2 = . Lenses (for glasses or contact lenses) ‡‡, 1 = Every calendar year. Lenses (for glasses or contact lenses) ‡‡, 2 = . Frames, 1 = Every calendar year. Frames, 2 = . Network discounts (glasses and contact lens professional service), 1 = Limitless within 12 months of exam.. Network discounts (glasses and contact lens professional service), 2 = . Dependent Age Limits, 1 = 26. Dependent Age Limits, 2 = . To Find a Provider:, 1 = Register at VSP.com to find a participating provider.. To Find a Provider:, 2 = \"), Document(metadata={}, page_content='· ‡‡Benefit includes coverage for glasses or contact lenses, not both.\\n· ^ For the discount to apply your purchase must be made within 12 months of the eye exam. In addition Full-Feature plans offer 30% off additional prescription glasses and nonprescription sunglasses, including lens options, if purchased on the same day as the eye exam from the same VSP doctor who provided the exam.\\n· Charges for an initial purchase can be used toward the material allowance. Any unused balance remaining after the initial purchase cannot be banked for future use. The only exception would be if a member purchases contact lenses from an out of network provider, members can use the balance towards additional contact lenses within the same benefit period.\\nVISION PLAN C 180 Benefit Summary\\n· 1 Extra $20 on select brands\\n· Members can use their in network benefits on line at Eyeconic.com.\\nThis document is a summary of the major features of the referenced insurance coverage.  It is intended for illustrative purposes only and does not constitute a contract. The insurance plan documents, including the policy and certificate, comprise the contract for coverage. The full plan description, including the benefits and all terms, limitations and exclusions that apply will be contained in your insurance certificate. The plan documents are the final arbiter of coverage.  Coverage terms may vary by state and actual sold plan. The premium amounts reflected in this summary are an approximation; if there is a discrepancy between this amount and the premium actually billed, the latter prevails.'), Document(metadata={}, page_content='Go to www.GuardianAnytime.com to access secure information about your Guardian benefits including access to an image of your ID Card. Your on-line account will be set up within 30 days after your plan effective date.'), Document(metadata={}, page_content='Important Information: This policy provides vision care limited benefits health insurance only. It does not provide basic hospital, basic medical or major medical insurance as defined by the New York State Insurance Department. Coverage is limited to those charges that are necessary for a routine vision examination. Co-pays apply. The plan does not pay for: orthoptics or vision training and any associated supplemental testing; medical or surgical treatment of the eye; and eye examination or corrective eyewear required by an employer as a condition of employment; replacement of lenses and frames that are furnished under this plan, which are lost or broken (except at normal intervals when services are otherwise available or a warranty exists). The plan limits benefits for blended lenses, oversized lenses, photochromic lenses, tinted lenses, progressive multifocal lenses, coated or laminated lenses, a frame that exceeds plan allowance, cosmetic lenses; U-V protected lenses and optional cosmetic processes.\\nThe services, exclusions and limitations listed above do not constitute a contract and are a summary only. The Guardian plan documents are the final arbiter of coverage. Contract #GP-1-VSN-96-VIS et al.'), Document(metadata={}, page_content='Discounts on average of 10-20% off usual and customary charge or 5% off promotional price for vision laser Surgery. Members out-of-pocket costs are limited to $1,800 per eye for LASIK or $1,500 per eye for PRK or $2300 per eye for Custom LASIK, Custom PRK, or Bladeless LASIK.\\nLaser surgery is not an insured benefit. The surgery is available at a discounted fee. The covered person must pay the entire discounted fee. In addition, the laser surgery discount may not be available in all states.')]\n"
     ]
    }
   ],
   "source": [
    "print(chunked_documents)"
   ]
  },
  {
   "cell_type": "code",
   "execution_count": 8,
   "metadata": {},
   "outputs": [],
   "source": [
    "# Loading the embedding model\n",
    "from langchain.embeddings import HuggingFaceBgeEmbeddings\n",
    "model_name = \"sentence-transformers/all-mpnet-base-v2\"\n",
    "model_kwargs = {\"device\": \"cpu\"}\n",
    "embeddings = HuggingFaceBgeEmbeddings(model_name=model_name, model_kwargs = model_kwargs)"
   ]
  },
  {
   "cell_type": "code",
   "execution_count": 9,
   "metadata": {},
   "outputs": [],
   "source": [
    "# Creating vector store\n",
    "from langchain.vectorstores.faiss import FAISS\n",
    "vc_db = FAISS.from_documents(chunked_documents, embeddings)\n",
    "vc_db.save_local(\"vc_db_ragas\") #why?\n",
    "vc_db = FAISS.load_local(\"vc_db_ragas\", embeddings,allow_dangerous_deserialization=True)\n"
   ]
  },
  {
   "cell_type": "code",
   "execution_count": 10,
   "metadata": {},
   "outputs": [
    {
     "data": {
      "text/plain": [
       "VectorStoreRetriever(tags=['FAISS', 'HuggingFaceBgeEmbeddings'], vectorstore=<langchain_community.vectorstores.faiss.FAISS object at 0x7bec347cf710>, search_kwargs={'k': 3})"
      ]
     },
     "execution_count": 10,
     "metadata": {},
     "output_type": "execute_result"
    }
   ],
   "source": [
    "# Retrieval\n",
    "retriever = vc_db.as_retriever(search_kwargs={\"k\":3})\n",
    "retriever"
   ]
  },
  {
   "cell_type": "code",
   "execution_count": 11,
   "metadata": {},
   "outputs": [
    {
     "name": "stderr",
     "output_type": "stream",
     "text": [
      "/tmp/ipykernel_44516/3012124975.py:8: LangChainDeprecationWarning: The class `ChatOpenAI` was deprecated in LangChain 0.0.10 and will be removed in 1.0. An updated version of the class exists in the :class:`~langchain-openai package and should be used instead. To use it run `pip install -U :class:`~langchain-openai` and import as `from :class:`~langchain_openai import ChatOpenAI``.\n",
      "  llm = ChatOpenAI(model_name=\"gpt-3.5-turbo\", temperature=0)\n"
     ]
    }
   ],
   "source": [
    "# RAG pipeline\n",
    "from langchain.chat_models import ChatOpenAI\n",
    "from langchain.prompts import ChatPromptTemplate\n",
    "from langchain.schema.runnable import RunnablePassthrough\n",
    "from langchain.schema.output_parser import StrOutputParser\n",
    "\n",
    "# Define LLM\n",
    "llm = ChatOpenAI(model_name=\"gpt-3.5-turbo\", temperature=0)"
   ]
  },
  {
   "cell_type": "code",
   "execution_count": 12,
   "metadata": {},
   "outputs": [],
   "source": [
    "# Prompt template\n",
    "template = \"\"\" Utilize the retrieved context below to answer each question. If you do not know the answer just say that you do not know it. Keep the response concise do not exceed 3 sentences.\n",
    "Question: {question}\n",
    "Context: {context}\n",
    "\"\"\""
   ]
  },
  {
   "cell_type": "code",
   "execution_count": 13,
   "metadata": {},
   "outputs": [],
   "source": [
    "prompt = ChatPromptTemplate.from_template(template)\n",
    "# Rag pipeline\n",
    "rag_chain = (\n",
    "    {\"context\": retriever, \"question\": RunnablePassthrough()}\n",
    "    | prompt\n",
    "    | llm\n",
    "    | StrOutputParser()\n",
    ")"
   ]
  },
  {
   "cell_type": "code",
   "execution_count": 29,
   "metadata": {},
   "outputs": [
    {
     "data": {
      "text/plain": [
       "'No, cosmetic lenses are not covered under this vision insurance plan.'"
      ]
     },
     "execution_count": 29,
     "metadata": {},
     "output_type": "execute_result"
    }
   ],
   "source": [
    "response = rag_chain.invoke('Are cosmetic lenses covered under this vision insurance plan?')\n",
    "response"
   ]
  },
  {
   "cell_type": "code",
   "execution_count": 14,
   "metadata": {},
   "outputs": [],
   "source": [
    "from datasets import Dataset\n",
    "\n",
    "questions = ['What is the copay for an eye exam in the VSP Network Signature Plan?',\n",
    "        'What is the contact lens allowance for medically necessary lenses under the plan?',\n",
    "        'How often are eye exams covered under the vision plan?',\n",
    "        'What discount is provided for laser correction surgery?']\n",
    "\n",
    "ground_truths = ['$10',\n",
    "        'Amount over $210',\n",
    "        'Every calendar year',\n",
    "        'Average of 10-20% off usual and customary charges or 5% off promotional prices']\n",
    "\n",
    "answers = []\n",
    "contexts = []\n"
   ]
  },
  {
   "cell_type": "code",
   "execution_count": 15,
   "metadata": {},
   "outputs": [
    {
     "name": "stderr",
     "output_type": "stream",
     "text": [
      "/tmp/ipykernel_44516/2532563226.py:3: LangChainDeprecationWarning: The method `BaseRetriever.get_relevant_documents` was deprecated in langchain-core 0.1.46 and will be removed in 1.0. Use :meth:`~invoke` instead.\n",
      "  contexts.append([docs.page_content for docs in retriever.get_relevant_documents(query)])\n"
     ]
    }
   ],
   "source": [
    "for query in questions:\n",
    "    answers.append(rag_chain.invoke(query))\n",
    "    contexts.append([docs.page_content for docs in retriever.get_relevant_documents(query)])\n",
    "    "
   ]
  },
  {
   "cell_type": "code",
   "execution_count": 16,
   "metadata": {},
   "outputs": [],
   "source": [
    "data = {\n",
    "    \"question\": questions,\n",
    "    \"answer\": answers,\n",
    "    \"contexts\": contexts,\n",
    "    \"ground_truths\": ground_truths\n",
    "}"
   ]
  },
  {
   "cell_type": "code",
   "execution_count": 17,
   "metadata": {},
   "outputs": [],
   "source": [
    "dataset = Dataset.from_dict(data)"
   ]
  },
  {
   "cell_type": "code",
   "execution_count": 18,
   "metadata": {},
   "outputs": [],
   "source": [
    "from ragas import evaluate\n",
    "from ragas.metrics import (\n",
    "    faithfulness,\n",
    "    answer_relevancy,\n",
    "    context_recall,\n",
    "    context_precision,\n",
    ")"
   ]
  },
  {
   "cell_type": "code",
   "execution_count": 19,
   "metadata": {},
   "outputs": [
    {
     "data": {
      "application/vnd.jupyter.widget-view+json": {
       "model_id": "735467beb76c44caab710014dd277ce0",
       "version_major": 2,
       "version_minor": 0
      },
      "text/plain": [
       "Evaluating:   0%|          | 0/8 [00:00<?, ?it/s]"
      ]
     },
     "metadata": {},
     "output_type": "display_data"
    }
   ],
   "source": [
    "result = evaluate(\n",
    "    dataset = dataset,\n",
    "    llm=llm,\n",
    "    embeddings=embeddings,\n",
    "    metrics=[\n",
    "        faithfulness,\n",
    "        answer_relevancy,\n",
    "    ],)\n",
    "\n",
    "df = result.to_pandas()"
   ]
  },
  {
   "cell_type": "code",
   "execution_count": 20,
   "metadata": {},
   "outputs": [
    {
     "data": {
      "text/html": [
       "<div>\n",
       "<style scoped>\n",
       "    .dataframe tbody tr th:only-of-type {\n",
       "        vertical-align: middle;\n",
       "    }\n",
       "\n",
       "    .dataframe tbody tr th {\n",
       "        vertical-align: top;\n",
       "    }\n",
       "\n",
       "    .dataframe thead th {\n",
       "        text-align: right;\n",
       "    }\n",
       "</style>\n",
       "<table border=\"1\" class=\"dataframe\">\n",
       "  <thead>\n",
       "    <tr style=\"text-align: right;\">\n",
       "      <th></th>\n",
       "      <th>user_input</th>\n",
       "      <th>retrieved_contexts</th>\n",
       "      <th>response</th>\n",
       "      <th>faithfulness</th>\n",
       "      <th>answer_relevancy</th>\n",
       "    </tr>\n",
       "  </thead>\n",
       "  <tbody>\n",
       "    <tr>\n",
       "      <th>0</th>\n",
       "      <td>What is the copay for an eye exam in the VSP N...</td>\n",
       "      <td>[Option 1: Significant out-of-pocket savings a...</td>\n",
       "      <td>The copay for an eye exam in the VSP Network S...</td>\n",
       "      <td>1.0</td>\n",
       "      <td>0.718313</td>\n",
       "    </tr>\n",
       "    <tr>\n",
       "      <th>1</th>\n",
       "      <td>What is the contact lens allowance for medical...</td>\n",
       "      <td>[Important Information: This policy provides v...</td>\n",
       "      <td>The contact lens allowance for medically neces...</td>\n",
       "      <td>1.0</td>\n",
       "      <td>0.700575</td>\n",
       "    </tr>\n",
       "    <tr>\n",
       "      <th>2</th>\n",
       "      <td>How often are eye exams covered under the visi...</td>\n",
       "      <td>[Important Information: This policy provides v...</td>\n",
       "      <td>Eye exams are covered every calendar year unde...</td>\n",
       "      <td>1.0</td>\n",
       "      <td>0.641532</td>\n",
       "    </tr>\n",
       "    <tr>\n",
       "      <th>3</th>\n",
       "      <td>What discount is provided for laser correction...</td>\n",
       "      <td>[Important Information: This policy provides v...</td>\n",
       "      <td>The discount provided for laser correction sur...</td>\n",
       "      <td>1.0</td>\n",
       "      <td>0.627337</td>\n",
       "    </tr>\n",
       "  </tbody>\n",
       "</table>\n",
       "</div>"
      ],
      "text/plain": [
       "                                          user_input  \\\n",
       "0  What is the copay for an eye exam in the VSP N...   \n",
       "1  What is the contact lens allowance for medical...   \n",
       "2  How often are eye exams covered under the visi...   \n",
       "3  What discount is provided for laser correction...   \n",
       "\n",
       "                                  retrieved_contexts  \\\n",
       "0  [Option 1: Significant out-of-pocket savings a...   \n",
       "1  [Important Information: This policy provides v...   \n",
       "2  [Important Information: This policy provides v...   \n",
       "3  [Important Information: This policy provides v...   \n",
       "\n",
       "                                            response  faithfulness  \\\n",
       "0  The copay for an eye exam in the VSP Network S...           1.0   \n",
       "1  The contact lens allowance for medically neces...           1.0   \n",
       "2  Eye exams are covered every calendar year unde...           1.0   \n",
       "3  The discount provided for laser correction sur...           1.0   \n",
       "\n",
       "   answer_relevancy  \n",
       "0          0.718313  \n",
       "1          0.700575  \n",
       "2          0.641532  \n",
       "3          0.627337  "
      ]
     },
     "execution_count": 20,
     "metadata": {},
     "output_type": "execute_result"
    }
   ],
   "source": [
    "df # need to explore recall and precision - error requires reference?"
   ]
  }
 ],
 "metadata": {
  "kernelspec": {
   "display_name": "Python 3",
   "language": "python",
   "name": "python3"
  },
  "language_info": {
   "codemirror_mode": {
    "name": "ipython",
    "version": 3
   },
   "file_extension": ".py",
   "mimetype": "text/x-python",
   "name": "python",
   "nbconvert_exporter": "python",
   "pygments_lexer": "ipython3",
   "version": "3.12.1"
  }
 },
 "nbformat": 4,
 "nbformat_minor": 2
}
